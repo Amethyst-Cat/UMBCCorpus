{
  "nbformat": 4,
  "nbformat_minor": 0,
  "metadata": {
    "colab": {
      "name": "UMBC_code_test.ipynb",
      "provenance": [],
      "collapsed_sections": [],
      "toc_visible": true
    },
    "kernelspec": {
      "display_name": "Python 3",
      "name": "python3"
    }
  },
  "cells": [
    {
      "cell_type": "code",
      "metadata": {
        "colab": {
          "base_uri": "https://localhost:8080/"
        },
        "id": "OslCI4vcVHwn",
        "outputId": "f7a2f5d8-b34e-4eb2-e879-a6185e31278c"
      },
      "source": [
        "from google.colab import drive\n",
        "drive.mount('/content/drive')"
      ],
      "execution_count": null,
      "outputs": [
        {
          "output_type": "stream",
          "text": [
            "Mounted at /content/drive\n"
          ],
          "name": "stdout"
        }
      ]
    },
    {
      "cell_type": "code",
      "metadata": {
        "id": "VVtO6J6hVvHk"
      },
      "source": [
        "# import urllib3\n",
        "# import gzip\n",
        "# import zlib\n",
        "import re\n",
        "import time\n",
        "import numpy\n",
        "# import math\n",
        "import random\n",
        "import os\n",
        "# import sys\n",
        "import json\n",
        "# import cython\n",
        "import pandas\n",
        "# import string\n",
        "import nltk\n",
        "from nltk.stem import WordNetLemmatizer\n",
        "import gensim\n",
        "from gensim.models import Word2Vec\n",
        "from numpy import sin, cos, tan, log, log10, pi, average, sqrt, std, deg2rad, rad2deg, linspace, asarray, dot\n",
        "from numpy.random import random, randint, normal, shuffle, choice\n",
        "from numpy.linalg import norm"
      ],
      "execution_count": null,
      "outputs": []
    },
    {
      "cell_type": "code",
      "metadata": {
        "colab": {
          "base_uri": "https://localhost:8080/",
          "height": 67
        },
        "id": "Wz1g45KLfauv",
        "outputId": "6f939da4-db06-4456-90a3-c846b202d7c4"
      },
      "source": [
        "nltk.download('wordnet')"
      ],
      "execution_count": null,
      "outputs": [
        {
          "output_type": "stream",
          "text": [
            "[nltk_data] Downloading package wordnet to /root/nltk_data...\n",
            "[nltk_data]   Unzipping corpora/wordnet.zip.\n"
          ],
          "name": "stdout"
        },
        {
          "output_type": "execute_result",
          "data": {
            "text/plain": [
              "True"
            ]
          },
          "metadata": {
            "tags": []
          },
          "execution_count": 4
        }
      ]
    },
    {
      "cell_type": "markdown",
      "metadata": {
        "id": "KcFgAHgYVeY8"
      },
      "source": [
        "https://osf.io/gcdbt/"
      ]
    },
    {
      "cell_type": "markdown",
      "metadata": {
        "id": "LF_BPPpu_ITW"
      },
      "source": [
        "#Fix UMBC Corpus"
      ]
    },
    {
      "cell_type": "code",
      "metadata": {
        "id": "-mojBj_TU_B2"
      },
      "source": [
        "########\n",
        "#\n",
        "# Setup UMBC corpus by cleaning, lemmatizing, splitting into sentences, and identifying olfactory contexts.\n",
        "# Saves .json corpus files as well as .json files specifying olfactory context sentences in each file.\n",
        "#\n",
        "########    \n",
        "    \n",
        "def fix_UMBC_corpus(corpusdir, targetdir=[], POStags = [], startfile=[], NounTags = [], \n",
        "                    AdjTags = [], VerbTags = [], AdvTags = [], OlfWords = [], min_Ns = []):    \n",
        "    \n",
        "    ######\n",
        "    # Setup\n",
        "    ######\n",
        "    \n",
        "    # Get start time\n",
        "    starttime = time.time()\n",
        "    \n",
        "    print('\\n\\n**************************************************************')\n",
        "    print('Starting to fix UMBC corpus, this will take some time.\\n')\n",
        "    \n",
        "    # Get file names\n",
        "    files = [cfile for cfile in os.listdir(corpusdir) if (re.search(r'.*.possf2$', cfile))]\n",
        "    \n",
        "    if startfile:\n",
        "        print('Starting with file ' + files[startfile])\n",
        "        files = files[startfile:len(files)]\n",
        "    else:\n",
        "        startfile = 0\n",
        "    \n",
        "    # Check taget dir\n",
        "    if not targetdir:\n",
        "        targetdir = corpusdir\n",
        "    \n",
        "    # Fix POS search string\n",
        "    possearch = \"(\" + \"|\".join(POStags) + \")\"\n",
        "    \n",
        "    # Setup wordnet lemmatiser\n",
        "    lt = WordNetLemmatizer()\n",
        "    \n",
        "    # Setup POS list to return\n",
        "    POS = []\n",
        "\n",
        "\n",
        "    #########\n",
        "    # Loop over files\n",
        "    #########\n",
        "\n",
        "    for idx, cfile in enumerate(files):\n",
        "    \n",
        "        # Get file start time\n",
        "        filestarttime = time.time()\n",
        "    \n",
        "        print('\\nWorking file: ' + cfile + '....\\n')\n",
        "        \n",
        "        # Setup .json lists to be saved\n",
        "        nlines = []\n",
        "        olflines = []\n",
        "\n",
        "\n",
        "        ########\n",
        "        # Loop over lines in current file\n",
        "        ########\n",
        "        \n",
        "        for cline in open(corpusdir + cfile, 'r', encoding='utf8'):\n",
        "            \n",
        "            # Split current line\n",
        "            cline = cline.split()\n",
        "    \n",
        "            ######\n",
        "            # Set up current line by removing trash, converting to lower case, lemmatizing, \n",
        "            # and categorizing as OLF or not\n",
        "            ######\n",
        "    \n",
        "            # Setup new line list\n",
        "            nline = []\n",
        "            OLF = False\n",
        "        \n",
        "            for word in cline:\n",
        "       \n",
        "                # only work with current word if acceptable POS is found \n",
        "                if (re.search(r'^.*_' + possearch + '$', word)):\n",
        "        \n",
        "                    # get word and POS tag    \n",
        "                    hit = re.search(r'(^.*)_(.*$)', word)\n",
        "                    cword = hit.group(1)\n",
        "                    cword = cword.lower()\n",
        "                    cPOS = hit.group(2)\n",
        "        \n",
        "                    # save POS\n",
        "                    if not any([cPOS == nPOS for nPOS in POS]):\n",
        "                        POS.append(cPOS)\n",
        "       \n",
        "                    # Lemmatize if any noun, verb, adj, or adv POS is found\n",
        "                    if any([cPOS == nPOS for nPOS in NounTags]):\n",
        "                        cword = lt.lemmatize(cword, pos='n') + '_' + cPOS\n",
        "                    elif any([cPOS == nPOS for nPOS in VerbTags]):\n",
        "                        cword = lt.lemmatize(cword, pos='v') + '_' + cPOS\n",
        "                    elif any([cPOS == nPOS for nPOS in AdjTags]):\n",
        "                        cword = lt.lemmatize(cword, pos='a') + '_' + cPOS\n",
        "                    elif any([cPOS == nPOS for nPOS in AdvTags]):\n",
        "                        cword = lt.lemmatize(cword, pos='r') + '_' + cPOS\n",
        "                    else:\n",
        "                        cword = cword + '_' + cPOS\n",
        "   \n",
        "                    # check if cword is olfactory-related\n",
        "                    if any([re.search(oword, cword) for oword in OlfWords]):\n",
        "                        OLF = True\n",
        "               \n",
        "                    # check if cword is punctuation. In that case, end sentence\n",
        "                    # and add data to lists\n",
        "                    if cPOS == '.':\n",
        "                        nlines.append(nline)\n",
        "                \n",
        "                        # save sentence number to indicate that it is an olfactory context\n",
        "                        if OLF:\n",
        "                            olflines.append(len(nlines)-1)\n",
        "                            print('.', end='')\n",
        "                    \n",
        "                        # start new sentence, increment sentence counter and reset OLF flag    \n",
        "                        nline = []\n",
        "                        OLF = False\n",
        "    \n",
        "                    # Else add current word to sentence\n",
        "                    else:\n",
        "                        nline.append(cword)\n",
        "        \n",
        "            # Current paragraph is done. Add final sentence if it has not been done already\n",
        "            # (i.e., if it does not end with a punctuation mark)\n",
        "            if cPOS != '.':\n",
        "                nlines.append(nline)\n",
        "             \n",
        "                # save sentence number to indicate that it is an olfactory context\n",
        "                if OLF:\n",
        "                    olflines.append(len(nlines)-1)\n",
        "                    print('.', end='')\n",
        "                   \n",
        "                # start new sentence, increment sentence counter and reset OLF flag    \n",
        "                nline = []\n",
        "                OLF = False\n",
        "                \n",
        "        # Current file is done. Dump .json-sentence file and .json-olf ID file\n",
        "        print('\\n\\n**************************************************************')\n",
        "        print(cfile + ' is done! Saving resulting .json files....\\n')\n",
        "        \n",
        "        cfile = open(targetdir + 'UMBC_lines_' + str(idx + 1 + startfile) + '.json', 'w')\n",
        "        json.dump(nlines, cfile)\n",
        "        cfile.close()\n",
        "        \n",
        "        cfile = open(targetdir + 'UMBC_olfIDs_' + str(idx + 1 + startfile) + '.json', 'w')\n",
        "        json.dump(olflines, cfile)\n",
        "        cfile.close()\n",
        "        print('It took ' + str(time.time() - filestarttime) + ' seconds to work ' + str(len(nlines)) + ' sentences.')\n",
        "              \n",
        "    # All files are done. Report and return POS tags\n",
        "    print('\\n********************************************************************')\n",
        "    print('All files done! Returning identified POS tags.\\n')\n",
        "    print('It took ' + str(time.time() - starttime) + ' seconds to work ' + str(len(files)) + ' files.')\n",
        "    return(POS)"
      ],
      "execution_count": null,
      "outputs": []
    },
    {
      "cell_type": "code",
      "metadata": {
        "colab": {
          "base_uri": "https://localhost:8080/",
          "height": 365
        },
        "id": "w4ys7l6eb1K5",
        "outputId": "ed8b18d7-b858-4fd8-bb8d-dc6a81373101"
      },
      "source": [
        "########\n",
        "# \n",
        "# Setup UBMC corpus\n",
        "#\n",
        "########\n",
        "\n",
        "corpusdir = '/content/drive/My Drive/umbc/'\n",
        "targetdir = '/content/drive/My Drive/umbc/'\n",
        "\n",
        "POStags = ['CC', 'CD', 'DT', 'EX', 'FW', 'IN', 'JJ', 'JJR', 'JJS', 'MD', 'NN', 'NNS', 'NNP',\n",
        "           'NNPS', 'PDT', 'PRP', 'PRP$', 'RB', 'RBR', 'RBS', 'RP', 'TO', 'UH', 'VB', 'VBD', \n",
        "           'VBG', 'VBN', 'VBP', 'VBZ', 'WDT', 'WP', 'WP$', 'WRB', '\\.']\n",
        "NounTags = ['NN', 'NNS', 'NNP', 'NNPS']\n",
        "AdjTags = ['JJ', 'JJR', 'JJS']\n",
        "VerbTags = ['MD', 'VB', 'VBD', 'VBG', 'VBN', 'VBP', 'VBZ']\n",
        "AdvTags = ['RB', 'RBR', 'RBS']\n",
        "\n",
        "#########\n",
        "#\n",
        "# Extract olfactory IDs for olfactory + gustatory terms\n",
        "#\n",
        "#########\n",
        "\n",
        "\n",
        "OlfWords = ['^feel_.*$', '^feeling_.*$', '^feelings_.*$', '^feels_.*$', '^felt_.*$']\n",
        "\n",
        "POS = fix_UMBC_corpus(corpusdir, targetdir=targetdir, POStags = POStags, NounTags = NounTags, AdjTags = AdjTags,\n",
        "                      VerbTags = VerbTags, AdvTags = AdvTags, OlfWords = OlfWords)"
      ],
      "execution_count": null,
      "outputs": [
        {
          "output_type": "stream",
          "text": [
            "\n",
            "\n",
            "**************************************************************\n",
            "Starting to fix UMBC corpus, this will take some time.\n",
            "\n",
            "\n",
            "Working file: delorme.com_shu.pages_0.possf2....\n",
            "\n",
            ".................................................................................................................................................................................................................................................................................................................................................................................................................................................................................................................................................................................................................................................................................................................................................................................................................................................................................................................................................................................................................................................................................................................................................................................................................................................................................................................................................................................................................................................................................................................................................................................................................................................................................................................................................................................................................................................................................................................................................................................................................................................................................................................................................................................................................................................................................................................................................................................................................................................................................................................................................................................................................................................................................................................................................................................................................................................................................................................................................................................................................................................................................................................................................................................................................................................................................................................................................................................................................................................................................................................................................................................................................................................................................................................................................................................................................................\n",
            "\n",
            "**************************************************************\n",
            "delorme.com_shu.pages_0.possf2 is done! Saving resulting .json files....\n",
            "\n",
            "It took 106.28365874290466 seconds to work 348382 sentences.\n",
            "\n",
            "********************************************************************\n",
            "All files done! Returning identified POS tags.\n",
            "\n",
            "It took 106.29185175895691 seconds to work 1 files.\n"
          ],
          "name": "stdout"
        }
      ]
    },
    {
      "cell_type": "markdown",
      "metadata": {
        "id": "7auI_4xA_Mlu"
      },
      "source": [
        "#Train Word2Vec Model"
      ]
    },
    {
      "cell_type": "code",
      "metadata": {
        "id": "94QOrOYimZeO"
      },
      "source": [
        "########\n",
        "#\n",
        "# Iterator that feeds sentences from the UMBC corpus\n",
        "#\n",
        "########\n",
        "\n",
        "class feed_UMBC_Corpus(object):\n",
        "    \n",
        "    # Setup feed\n",
        "    # Get json file IDs and save start time\n",
        "    def __init__(self, dir_name, ctxtdir = [], OlfContextsOnly = False, MergePOS = True):\n",
        "        self.dir_name = dir_name\n",
        "        \n",
        "        if not ctxtdir:\n",
        "            self.ctxtdir = dir_name\n",
        "        else:\n",
        "            self.ctxtdir = ctxtdir\n",
        "            \n",
        "        self.files = [cfile for cfile in os.listdir(dir_name) if (re.search(r'^UMBC_lines.*json$', cfile))]\n",
        "        self.IDs = [int(re.search(r'^UMBC_lines_([0-9]{1,3}).json', cfile).group(1)) for cfile in self.files]\n",
        "        self.starttime = time.time()\n",
        "        self.OlfContextsOnly = OlfContextsOnly\n",
        "        self.MergePOS = MergePOS\n",
        "        \n",
        "        print('\\nSTARTING UP NEW UMBC CORPUS FEED')\n",
        "        print('***************************\\n')\n",
        "    \n",
        "    # Iterate over file IDs\n",
        "    def __iter__(self):\n",
        "        \n",
        "        for cID in self.IDs:\n",
        "            \n",
        "            # Setup for current file. Save file name and file start time\n",
        "            self.filetime = time.time()\n",
        "            self.cfilename = 'UMBC_lines_' + str(cID) + '.json'\n",
        "            print('\\nWorking file ' + self.cfilename + '...')\n",
        "          \n",
        "            # Open current file\n",
        "            with open(os.path.join(self.dir_name, self.cfilename), 'r') as cfile:\n",
        "                cSentences = json.load(cfile)\n",
        "            cfile.close()\n",
        "            \n",
        "            # If only olfactory sentences are to be fed, feed on basis of\n",
        "            # Olfactory sentence identifiers\n",
        "            if self.OlfContextsOnly: \n",
        "                print('Feed is restricted to olfactory sentences only.')\n",
        "                with open(os.path.join(self.ctxtdir, 'UMBC_olfIDs_' + str(cID) + '.json'), 'r') as cfile:\n",
        "                    cIDs = json.load(cfile)\n",
        "                cfile.close()\n",
        "                \n",
        "                # Iterate over olfactory sentences\n",
        "                for cID in cIDs:\n",
        "                    # If POS-es are to be merged, remove final POS signs and send\n",
        "                    if self.MergePOS:\n",
        "                        yield([re.search(r'(^.*_COLL|^.*_..)($|.*$)', n).group(1) for n in cSentences[cID]])\n",
        "                    # Else send-as-is\n",
        "                    else:        \n",
        "                        yield(cSentences[cID])\n",
        "            \n",
        "            # Else iterate over all sentences\n",
        "            else:\n",
        "                for cSentence in cSentences: \n",
        "                    # If POS-es are to be merged, remove final POS signs and send\n",
        "                    if self.MergePOS:\n",
        "                        yield([re.search(r'(^.*_COLL|^.*_..)($|.*$)', n).group(1) for n in cSentence])\n",
        "                    # Else send-as-is\n",
        "                    else:\n",
        "                        yield(cSentence)\n",
        "            \n",
        "            # Current file is done, provide feedback\n",
        "            print('\\n**************************************************************')\n",
        "            print(self.cfilename + ' is done!')\n",
        "            \n",
        "            if self.OlfContextsOnly:\n",
        "                print('Nr of sentences fed: ' + str(len(cIDs)))    \n",
        "            else:\n",
        "                print('Nr of sentences fed: ' + str(len(cSentences)))  \n",
        "                 \n",
        "            print('File processing time: ' + str(time.time() - self.filetime))\n",
        "  \n",
        "        # All files are done, provide feedback\n",
        "        print('\\n\\n**************************************************************')\n",
        "        print('All ' + str(len(self.IDs)) + ' files are done!') \n",
        "        print('Total processing time: ' + str(time.time() - self.starttime))"
      ],
      "execution_count": null,
      "outputs": []
    },
    {
      "cell_type": "code",
      "metadata": {
        "id": "q7iTsHeDncaf"
      },
      "source": [
        "########\n",
        "# Trimming rule for empty words\n",
        "########\n",
        "      \n",
        "def trimrule(word, count, min_count):\n",
        "    # trim out empty words\n",
        "    if word.startswith(\"_\"):\n",
        "        return gensim.utils.RULE_DISCARD\n",
        "    \n",
        "    # remove pos tag\n",
        "    cword = re.search(r'(^.*)_.*', word)\n",
        "    \n",
        "    # trim out non-tagged words\n",
        "    if not cword:\n",
        "        return gensim.utils.RULE_DISCARD\n",
        "    \n",
        "    # trim out short abbreviations\n",
        "    if re.match(r'^.\\.$', cword.group(1)):\n",
        "        return gensim.utils.RULE_DISCARD\n",
        "\n",
        "    return gensim.utils.RULE_DEFAULT"
      ],
      "execution_count": null,
      "outputs": []
    },
    {
      "cell_type": "code",
      "metadata": {
        "id": "JEWAuuopm3eR"
      },
      "source": [
        "#########\n",
        "#\n",
        "# Training of language model\n",
        "#\n",
        "##########\n",
        "\n",
        "#######\n",
        "# corpusdir and target model dir\n",
        "#######\n",
        "\n",
        "corpusdir =  '/content/drive/My Drive/umbc/'  \n",
        "modeldir = '/content/drive/My Drive/umbc/'\n",
        "\n",
        "\n",
        "########\n",
        "# Model setup (build vocabulary etc)\n",
        "########\n",
        "\n",
        "# Initiation of model. Empty model is set up first. Then the vocabulary is build on the basis of the whole corpus.\n",
        "# Also, the corpus is properly prepared\n",
        "\n",
        "corpus = feed_UMBC_Corpus(corpusdir, OlfContextsOnly=True)  \n",
        "olfmodel = Word2Vec(corpus, min_count=10, iter=30, window=5, size=200, workers=4, sg=0, trim_rule=trimrule)\n",
        "olfmodel.save(modeldir + u'OlfModelIter30_nonSG')"
      ],
      "execution_count": null,
      "outputs": []
    },
    {
      "cell_type": "markdown",
      "metadata": {
        "id": "ncu4T13y8Sf6"
      },
      "source": [
        "#Load Model"
      ]
    },
    {
      "cell_type": "code",
      "metadata": {
        "colab": {
          "base_uri": "https://localhost:8080/"
        },
        "id": "WH125i647t-L",
        "outputId": "f2a5e077-d8a7-41f0-dec5-bc4aa16803c7"
      },
      "source": [
        "model = Word2Vec.load('/content/drive/MyDrive/UMBC_feel_data/OlfModelIter30_nonSG')\n",
        "print(model)"
      ],
      "execution_count": null,
      "outputs": [
        {
          "output_type": "stream",
          "text": [
            "Word2Vec(vocab=37281, size=200, alpha=0.025)\n"
          ],
          "name": "stdout"
        }
      ]
    },
    {
      "cell_type": "code",
      "metadata": {
        "colab": {
          "base_uri": "https://localhost:8080/"
        },
        "id": "Wg8DAOMGAlzf",
        "outputId": "df91ef96-e2b9-48d5-8d4b-a22f9e977957"
      },
      "source": [
        "vocab_obj = model.wv.vocab[\"peru_NN\"]\n",
        "print(vocab_obj.count)"
      ],
      "execution_count": null,
      "outputs": [
        {
          "output_type": "stream",
          "text": [
            "89\n"
          ],
          "name": "stdout"
        }
      ]
    },
    {
      "cell_type": "code",
      "metadata": {
        "colab": {
          "base_uri": "https://localhost:8080/"
        },
        "id": "k1t8ivua8u2R",
        "outputId": "86cd65b1-3fd1-4a14-c489-f2ce371fe810"
      },
      "source": [
        "print(model.wv.most_similar(positive=['stress_NN'], topn=10))"
      ],
      "execution_count": null,
      "outputs": [
        {
          "output_type": "stream",
          "text": [
            "[('anxiety_NN', 0.6889177560806274), ('depression_NN', 0.6018229126930237), ('burnout_NN', 0.5939035415649414), ('fatigue_NN', 0.5818719863891602), ('trauma_NN', 0.565748929977417), ('stressor_NN', 0.5531803369522095), ('strain_NN', 0.551838755607605), ('isolation_NN', 0.5501328110694885), ('sleepiness_NN', 0.5488513708114624), ('distress_NN', 0.5386402606964111)]\n"
          ],
          "name": "stdout"
        },
        {
          "output_type": "stream",
          "text": [
            "/usr/local/lib/python3.6/dist-packages/gensim/matutils.py:737: FutureWarning: Conversion of the second argument of issubdtype from `int` to `np.signedinteger` is deprecated. In future, it will be treated as `np.int64 == np.dtype(int).type`.\n",
            "  if np.issubdtype(vec.dtype, np.int):\n"
          ],
          "name": "stderr"
        }
      ]
    },
    {
      "cell_type": "code",
      "metadata": {
        "colab": {
          "base_uri": "https://localhost:8080/",
          "height": 408
        },
        "id": "IRN8XvV_Xh3M",
        "outputId": "3b237a67-4175-4772-ea97-4d13085404d4"
      },
      "source": [
        "df = pandas.read_csv(\"/content/drive/MyDrive/UMBC_feel_data/purple_feel_oai - Copy.csv\")\n",
        "df"
      ],
      "execution_count": null,
      "outputs": [
        {
          "output_type": "execute_result",
          "data": {
            "text/html": [
              "<div>\n",
              "<style scoped>\n",
              "    .dataframe tbody tr th:only-of-type {\n",
              "        vertical-align: middle;\n",
              "    }\n",
              "\n",
              "    .dataframe tbody tr th {\n",
              "        vertical-align: top;\n",
              "    }\n",
              "\n",
              "    .dataframe thead th {\n",
              "        text-align: right;\n",
              "    }\n",
              "</style>\n",
              "<table border=\"1\" class=\"dataframe\">\n",
              "  <thead>\n",
              "    <tr style=\"text-align: right;\">\n",
              "      <th></th>\n",
              "      <th>Unnamed: 0</th>\n",
              "      <th>OlfN</th>\n",
              "      <th>TotalN</th>\n",
              "      <th>Tokens</th>\n",
              "      <th>OAI</th>\n",
              "      <th>OSI</th>\n",
              "    </tr>\n",
              "  </thead>\n",
              "  <tbody>\n",
              "    <tr>\n",
              "      <th>0</th>\n",
              "      <td>confidence_NN</td>\n",
              "      <td>149</td>\n",
              "      <td>19187</td>\n",
              "      <td>['confidence_NN', 'confidence_NNS']</td>\n",
              "      <td>-7.008673</td>\n",
              "      <td>11.533081</td>\n",
              "    </tr>\n",
              "    <tr>\n",
              "      <th>1</th>\n",
              "      <td>hot_JJ</td>\n",
              "      <td>186</td>\n",
              "      <td>23908</td>\n",
              "      <td>['hot_JJ', 'hot_JJS']</td>\n",
              "      <td>-7.006047</td>\n",
              "      <td>11.213091</td>\n",
              "    </tr>\n",
              "    <tr>\n",
              "      <th>2</th>\n",
              "      <td>home_NN</td>\n",
              "      <td>1297</td>\n",
              "      <td>161002</td>\n",
              "      <td>['home_NN', 'home_NNS', 'home_NNP', 'home_NNPS']</td>\n",
              "      <td>-6.955756</td>\n",
              "      <td>8.411287</td>\n",
              "    </tr>\n",
              "    <tr>\n",
              "      <th>3</th>\n",
              "      <td>heavy_JJ</td>\n",
              "      <td>194</td>\n",
              "      <td>23971</td>\n",
              "      <td>['heavy_JJ', 'heavy_JJR', 'heavy_JJS']</td>\n",
              "      <td>-6.949090</td>\n",
              "      <td>11.152337</td>\n",
              "    </tr>\n",
              "    <tr>\n",
              "      <th>4</th>\n",
              "      <td>obligation_NN</td>\n",
              "      <td>194</td>\n",
              "      <td>23818</td>\n",
              "      <td>['obligation_NNS', 'obligation_NN']</td>\n",
              "      <td>-6.939852</td>\n",
              "      <td>11.152337</td>\n",
              "    </tr>\n",
              "    <tr>\n",
              "      <th>...</th>\n",
              "      <td>...</td>\n",
              "      <td>...</td>\n",
              "      <td>...</td>\n",
              "      <td>...</td>\n",
              "      <td>...</td>\n",
              "      <td>...</td>\n",
              "    </tr>\n",
              "    <tr>\n",
              "      <th>165</th>\n",
              "      <td>uncomfortable_JJ</td>\n",
              "      <td>757</td>\n",
              "      <td>3842</td>\n",
              "      <td>['uncomfortable_JJ']</td>\n",
              "      <td>-2.343492</td>\n",
              "      <td>9.188100</td>\n",
              "    </tr>\n",
              "    <tr>\n",
              "      <th>166</th>\n",
              "      <td>helplessness_NN</td>\n",
              "      <td>119</td>\n",
              "      <td>429</td>\n",
              "      <td>['helplessness_NN']</td>\n",
              "      <td>-1.850016</td>\n",
              "      <td>11.857432</td>\n",
              "    </tr>\n",
              "    <tr>\n",
              "      <th>167</th>\n",
              "      <td>dizzy_JJ</td>\n",
              "      <td>127</td>\n",
              "      <td>415</td>\n",
              "      <td>['dizzy_JJ']</td>\n",
              "      <td>-1.708283</td>\n",
              "      <td>11.763565</td>\n",
              "    </tr>\n",
              "    <tr>\n",
              "      <th>168</th>\n",
              "      <td>pressured_JJ</td>\n",
              "      <td>116</td>\n",
              "      <td>270</td>\n",
              "      <td>['pressured_JJ']</td>\n",
              "      <td>-1.218835</td>\n",
              "      <td>11.894269</td>\n",
              "    </tr>\n",
              "    <tr>\n",
              "      <th>169</th>\n",
              "      <td>nauseous_JJ</td>\n",
              "      <td>89</td>\n",
              "      <td>193</td>\n",
              "      <td>['nauseous_JJ']</td>\n",
              "      <td>-1.116724</td>\n",
              "      <td>12.276517</td>\n",
              "    </tr>\n",
              "  </tbody>\n",
              "</table>\n",
              "<p>170 rows × 6 columns</p>\n",
              "</div>"
            ],
            "text/plain": [
              "           Unnamed: 0  OlfN  ...       OAI        OSI\n",
              "0       confidence_NN   149  ... -7.008673  11.533081\n",
              "1              hot_JJ   186  ... -7.006047  11.213091\n",
              "2             home_NN  1297  ... -6.955756   8.411287\n",
              "3            heavy_JJ   194  ... -6.949090  11.152337\n",
              "4       obligation_NN   194  ... -6.939852  11.152337\n",
              "..                ...   ...  ...       ...        ...\n",
              "165  uncomfortable_JJ   757  ... -2.343492   9.188100\n",
              "166   helplessness_NN   119  ... -1.850016  11.857432\n",
              "167          dizzy_JJ   127  ... -1.708283  11.763565\n",
              "168      pressured_JJ   116  ... -1.218835  11.894269\n",
              "169       nauseous_JJ    89  ... -1.116724  12.276517\n",
              "\n",
              "[170 rows x 6 columns]"
            ]
          },
          "metadata": {
            "tags": []
          },
          "execution_count": 5
        }
      ]
    },
    {
      "cell_type": "code",
      "metadata": {
        "id": "wLOhbwY4mGCO"
      },
      "source": [
        "def index_to_word(index):\r\n",
        "  return df[\"Unnamed: 0\"].values[index]"
      ],
      "execution_count": null,
      "outputs": []
    },
    {
      "cell_type": "code",
      "metadata": {
        "colab": {
          "base_uri": "https://localhost:8080/"
        },
        "id": "qfauEOwEl82y",
        "outputId": "68889801-99e4-420f-ac56-1816a40fefab"
      },
      "source": [
        "print(df[\"Unnamed: 0\"].values[2])\r\n",
        "print(index_to_word(2))"
      ],
      "execution_count": null,
      "outputs": [
        {
          "output_type": "stream",
          "text": [
            "home_NN\n",
            "home_NN\n"
          ],
          "name": "stdout"
        }
      ]
    },
    {
      "cell_type": "code",
      "metadata": {
        "id": "xZjs_7bWuAPw"
      },
      "source": [
        "import ast\n",
        "tokens = ast.literal_eval(df[\"Tokens\"][0])\n",
        "# gensim.matutils.unitvec(numpy.array([model[w] for w in tokens]).mean(axis=0))"
      ],
      "execution_count": null,
      "outputs": []
    },
    {
      "cell_type": "code",
      "metadata": {
        "colab": {
          "base_uri": "https://localhost:8080/"
        },
        "id": "vsKWCopca07B",
        "outputId": "74ded89a-5237-4d4c-b24c-a64d8ac349fb"
      },
      "source": [
        "word_vectors = []\n",
        "\n",
        "descriptors = df[\"Unnamed: 0\"].values\n",
        "\n",
        "for descriptor in descriptors:\n",
        "  vector = model[descriptor]\n",
        "  word_vectors.append(gensim.matutils.unitvec(vector))\n",
        "\n",
        "print(len(word_vectors))"
      ],
      "execution_count": null,
      "outputs": [
        {
          "output_type": "stream",
          "text": [
            "170\n"
          ],
          "name": "stdout"
        },
        {
          "output_type": "stream",
          "text": [
            "/usr/local/lib/python3.6/dist-packages/ipykernel_launcher.py:6: DeprecationWarning: Call to deprecated `__getitem__` (Method will be removed in 4.0.0, use self.wv.__getitem__() instead).\n",
            "  \n",
            "/usr/local/lib/python3.6/dist-packages/gensim/matutils.py:737: FutureWarning: Conversion of the second argument of issubdtype from `int` to `np.signedinteger` is deprecated. In future, it will be treated as `np.int64 == np.dtype(int).type`.\n",
            "  if np.issubdtype(vec.dtype, np.int):\n"
          ],
          "name": "stderr"
        }
      ]
    },
    {
      "cell_type": "code",
      "metadata": {
        "colab": {
          "base_uri": "https://localhost:8080/"
        },
        "id": "rReOR7ukcP5Y",
        "outputId": "c3e7eca0-5738-490b-d491-22af20f07f4b"
      },
      "source": [
        "print(word_vectors[0])"
      ],
      "execution_count": null,
      "outputs": [
        {
          "output_type": "stream",
          "text": [
            "[-0.00139004  0.07089247 -0.02022217  0.0553166   0.0560267   0.08102205\n",
            " -0.06184858  0.13792017  0.16625506 -0.02475413 -0.1104795   0.06830419\n",
            "  0.03681709 -0.00451698 -0.10720126  0.02614219  0.04551978  0.03677795\n",
            "  0.0045328  -0.09357945 -0.00103944 -0.06703823 -0.17705633  0.04954121\n",
            "  0.01850357 -0.13064142  0.1347084  -0.0918825   0.01779443  0.06922527\n",
            " -0.10200317 -0.04910491 -0.06889058  0.00509332 -0.11765084  0.03783137\n",
            "  0.12394977  0.07350227  0.0429405   0.00673873  0.02692811 -0.05989559\n",
            " -0.09223399 -0.02380586  0.00935875 -0.09339511  0.03928459  0.00461964\n",
            " -0.03829277 -0.00221947  0.04032496  0.12504049 -0.09688429  0.0322753\n",
            " -0.0891907   0.04786398 -0.03509695 -0.03553102  0.0113441  -0.01526532\n",
            " -0.02666724  0.10861234 -0.07201903  0.01861082 -0.03298198 -0.01365971\n",
            "  0.0847794   0.03141518 -0.11869521 -0.01395535  0.00311116  0.05538319\n",
            "  0.02009948  0.03305095 -0.11299448 -0.01145002 -0.09021488  0.0198815\n",
            " -0.06071033  0.02483528  0.03269532  0.0946802   0.09685854  0.00649363\n",
            "  0.01847996 -0.04819516  0.11295593 -0.08105474  0.12747458  0.07840808\n",
            "  0.03373927 -0.00433148 -0.10401449  0.14553173 -0.11365605  0.02278846\n",
            "  0.02190994  0.04955903 -0.04030911 -0.04756063 -0.02809543 -0.03694849\n",
            "  0.10720985  0.0031297  -0.14631356  0.04521591 -0.05065125  0.05028028\n",
            "  0.09998373 -0.13677578 -0.02017937 -0.01303952  0.01953123  0.06046049\n",
            " -0.04568611  0.06810574  0.01972838  0.067628    0.07954174 -0.06135312\n",
            " -0.03961334 -0.00946668  0.07017968  0.00910992  0.06896293  0.19131878\n",
            " -0.02747636  0.00766909 -0.03524753 -0.00077529  0.05092173  0.0448321\n",
            "  0.00566904  0.03764149 -0.05211493 -0.08325379 -0.06378454 -0.06114405\n",
            "  0.05092874  0.09870014  0.0649102  -0.00769409  0.01323087 -0.09869786\n",
            "  0.00220114  0.05158014  0.1396091  -0.01508021  0.02637257  0.1276406\n",
            "  0.11244953 -0.09634507 -0.08401047 -0.03646465 -0.07668306  0.04590248\n",
            " -0.03617845 -0.03531896 -0.00284282 -0.06196402 -0.09551941  0.02114835\n",
            "  0.06842255  0.08414178 -0.19104397  0.09904693  0.11601622 -0.084868\n",
            "  0.00300157 -0.08664218  0.04541874  0.10499749  0.01141934  0.12874337\n",
            " -0.04593019  0.05851267 -0.01786461  0.00870558  0.00076895 -0.09329546\n",
            "  0.03738572 -0.01027605 -0.01130071  0.01779431  0.06767405  0.03083662\n",
            " -0.00273127 -0.01243494 -0.04791491 -0.07612147  0.10899611 -0.08769882\n",
            " -0.06061447  0.01590062 -0.01747741  0.02422178  0.03391213  0.0482522\n",
            "  0.07168999 -0.13895287]\n"
          ],
          "name": "stdout"
        }
      ]
    },
    {
      "cell_type": "code",
      "metadata": {
        "colab": {
          "base_uri": "https://localhost:8080/"
        },
        "id": "BsWBOVNbbGB7",
        "outputId": "3c4a6bf8-5a01-459d-d760-deb6ab85def8"
      },
      "source": [
        "# Stack vectors - examples are rows, columns are features; examples x features\n",
        "word_matrix = numpy.row_stack(word_vectors)\n",
        "print(word_matrix.shape)"
      ],
      "execution_count": null,
      "outputs": [
        {
          "output_type": "stream",
          "text": [
            "(170, 200)\n"
          ],
          "name": "stdout"
        }
      ]
    },
    {
      "cell_type": "code",
      "metadata": {
        "id": "cgCBBRAEcEM5"
      },
      "source": [
        "print(word_matrix[:, 0])"
      ],
      "execution_count": null,
      "outputs": []
    },
    {
      "cell_type": "code",
      "metadata": {
        "colab": {
          "base_uri": "https://localhost:8080/"
        },
        "id": "0YzZmmH_cbjp",
        "outputId": "681233e2-1ff0-4935-93ca-4da9b3df8c74"
      },
      "source": [
        "distance_matrix = numpy.corrcoef(word_matrix, rowvar=True)\n",
        "print(distance_matrix.shape)\n",
        "\n",
        "scaled_distance_matrix = 0.5 * (1 - distance_matrix)\n",
        "print(scaled_distance_matrix)"
      ],
      "execution_count": null,
      "outputs": [
        {
          "output_type": "stream",
          "text": [
            "(170, 170)\n",
            "[[0.00000000e+00 5.57593012e-01 4.81542854e-01 ... 5.04185365e-01\n",
            "  4.74844477e-01 4.94550095e-01]\n",
            " [5.57593012e-01 0.00000000e+00 4.46865764e-01 ... 2.82522486e-01\n",
            "  4.98389896e-01 2.94317283e-01]\n",
            " [4.81542854e-01 4.46865764e-01 0.00000000e+00 ... 4.23322121e-01\n",
            "  4.25755519e-01 3.91535329e-01]\n",
            " ...\n",
            " [5.04185365e-01 2.82522486e-01 4.23322121e-01 ... 1.11022302e-16\n",
            "  3.97054201e-01 9.12170246e-02]\n",
            " [4.74844477e-01 4.98389896e-01 4.25755519e-01 ... 3.97054201e-01\n",
            "  0.00000000e+00 3.80736636e-01]\n",
            " [4.94550095e-01 2.94317283e-01 3.91535329e-01 ... 9.12170246e-02\n",
            "  3.80736636e-01 0.00000000e+00]]\n"
          ],
          "name": "stdout"
        }
      ]
    },
    {
      "cell_type": "markdown",
      "metadata": {
        "id": "f6xKKH2J9Rm7"
      },
      "source": [
        "# NMF"
      ]
    },
    {
      "cell_type": "code",
      "metadata": {
        "id": "nMW4zWBR9S_u"
      },
      "source": [
        "from sklearn.decomposition import NMF"
      ],
      "execution_count": null,
      "outputs": []
    },
    {
      "cell_type": "code",
      "metadata": {
        "id": "fIF9FqI3B8sy"
      },
      "source": [
        "nmf = NMF(n_components=5, solver='cd')\r\n",
        "W = nmf.fit_transform(scaled_distance_matrix)\r\n",
        "H = nmf.components_\r\n",
        "err = nmf.reconstruction_err_"
      ],
      "execution_count": null,
      "outputs": []
    },
    {
      "cell_type": "code",
      "metadata": {
        "colab": {
          "base_uri": "https://localhost:8080/"
        },
        "id": "fU4rdS24k_nJ",
        "outputId": "6639c16f-25ca-4aef-b41c-44b7627b9006"
      },
      "source": [
        "print(err)"
      ],
      "execution_count": null,
      "outputs": [
        {
          "output_type": "stream",
          "text": [
            "7.331028491003531\n"
          ],
          "name": "stdout"
        }
      ]
    },
    {
      "cell_type": "code",
      "metadata": {
        "colab": {
          "base_uri": "https://localhost:8080/"
        },
        "id": "zWOccmiElXZ4",
        "outputId": "66a9e19c-3476-449e-de48-74aa773fc6d9"
      },
      "source": [
        "words = 10\r\n",
        "\r\n",
        "for i, topic in enumerate(H):\r\n",
        "  print(\"Basis {}: {}\".format(i + 1, \",\".join([str(x) for x in index_to_word(topic.argsort()[-words:])])))\r\n",
        "  print(\"Weights {}: {}\".format(i + 1, \",\".join([str(round(topic[x], 3)) for x in topic.argsort()[-words:]])))\r\n",
        "  print()"
      ],
      "execution_count": null,
      "outputs": [
        {
          "output_type": "stream",
          "text": [
            "Basis 1: tired_JJ,dizzy_JJ,nice_JJ,nauseous_JJ,unsafe_JJ,uncomfortable_JJ,hot_JJ,relax_VB,cool_JJ,comfortable_JJ\n",
            "Weights 1: 0.571,0.571,0.572,0.574,0.577,0.584,0.587,0.596,0.6,0.607\n",
            "\n",
            "Basis 2: chest_NN,self_NN,thought_NN,mood_NN,mind_NN,emotion_NN,perception_NN,body_NN,consciousness_NN,sensation_NN\n",
            "Weights 2: 0.636,0.638,0.644,0.644,0.654,0.662,0.682,0.69,0.707,0.731\n",
            "\n",
            "Basis 3: free_JJ,confident_JJ,oblige_VB,privileged_JJ,compel_VB,obligate_VB,value_VB,empower_VB,respect_VB,honor_VB\n",
            "Weights 3: 0.527,0.531,0.534,0.543,0.546,0.556,0.562,0.563,0.564,0.597\n",
            "\n",
            "Basis 4: guilt_NN,alienate_VB,betray_VB,depressed_JJ,abandon_VB,hopeless_JJ,confused_JJ,helpless_JJ,angry_JJ,frustrated_JJ\n",
            "Weights 4: 0.455,0.458,0.458,0.46,0.465,0.47,0.474,0.487,0.505,0.521\n",
            "\n",
            "Basis 5: sad_JJ,terrible_JJ,pity_NN,gratitude_NN,funny_JJ,amazing_JJ,love_NN,bless_VB,grateful_JJ,wonderful_JJ\n",
            "Weights 5: 0.581,0.584,0.588,0.598,0.598,0.6,0.608,0.646,0.674,0.686\n",
            "\n"
          ],
          "name": "stdout"
        }
      ]
    },
    {
      "cell_type": "markdown",
      "metadata": {
        "id": "fH8L715gMB-t"
      },
      "source": [
        "#PCA"
      ]
    },
    {
      "cell_type": "code",
      "metadata": {
        "colab": {
          "base_uri": "https://localhost:8080/"
        },
        "id": "EjIqJKhVMAuO",
        "outputId": "b2f13226-486e-42a4-a8f5-cf81396c7982"
      },
      "source": [
        "# PCA Reference\n",
        "# https://reneshbedre.github.io/blog/pca_3d.html\n",
        "from sklearn.decomposition import PCA\n",
        "import pandas as pd\n",
        "\n",
        "pca_out = PCA().fit(scaled_distance_matrix)\n",
        "pca_out.explained_variance_ratio_"
      ],
      "execution_count": null,
      "outputs": [
        {
          "output_type": "execute_result",
          "data": {
            "text/plain": [
              "array([2.39134636e-01, 1.77160164e-01, 1.27038226e-01, 7.27394823e-02,\n",
              "       5.42792176e-02, 4.96241984e-02, 3.69334475e-02, 2.72762152e-02,\n",
              "       1.98581882e-02, 1.64056045e-02, 1.40718337e-02, 1.39681399e-02,\n",
              "       1.24684856e-02, 1.05231271e-02, 9.18139966e-03, 8.27302615e-03,\n",
              "       6.64087226e-03, 6.37690635e-03, 5.59541535e-03, 5.31811152e-03,\n",
              "       5.11746208e-03, 4.15523445e-03, 3.91569661e-03, 3.79781578e-03,\n",
              "       3.67308886e-03, 3.29750794e-03, 3.05325723e-03, 2.84601584e-03,\n",
              "       2.69128444e-03, 2.58454257e-03, 2.45227140e-03, 2.40183164e-03,\n",
              "       2.29056245e-03, 2.04792647e-03, 1.99055601e-03, 1.76174114e-03,\n",
              "       1.69290338e-03, 1.58013117e-03, 1.48467781e-03, 1.39122788e-03,\n",
              "       1.38520463e-03, 1.32632089e-03, 1.31908858e-03, 1.21589095e-03,\n",
              "       1.17274870e-03, 1.11634952e-03, 1.04814700e-03, 9.88794466e-04,\n",
              "       9.50205307e-04, 9.19792430e-04, 8.91737462e-04, 8.65422684e-04,\n",
              "       8.04652466e-04, 7.80851627e-04, 7.50209038e-04, 7.15192963e-04,\n",
              "       6.88831575e-04, 6.45336434e-04, 6.21243723e-04, 5.96616362e-04,\n",
              "       5.63076148e-04, 5.37081205e-04, 5.26186789e-04, 5.19451319e-04,\n",
              "       4.80579850e-04, 4.66205664e-04, 4.59026018e-04, 4.38060249e-04,\n",
              "       3.93151038e-04, 3.82016742e-04, 3.68662028e-04, 3.56485896e-04,\n",
              "       3.39451494e-04, 3.34984847e-04, 3.08050618e-04, 3.04631569e-04,\n",
              "       2.91448890e-04, 2.82434417e-04, 2.71027377e-04, 2.66378989e-04,\n",
              "       2.39389509e-04, 2.33483151e-04, 2.32375550e-04, 2.21368302e-04,\n",
              "       2.16835980e-04, 2.07364913e-04, 2.05311203e-04, 1.97406753e-04,\n",
              "       1.86504084e-04, 1.81639712e-04, 1.77939562e-04, 1.72275957e-04,\n",
              "       1.67361549e-04, 1.61338800e-04, 1.53429613e-04, 1.44510734e-04,\n",
              "       1.40422632e-04, 1.35208442e-04, 1.33592271e-04, 1.21408982e-04,\n",
              "       1.15833783e-04, 1.14490693e-04, 1.01913084e-04, 1.00507353e-04,\n",
              "       9.71448560e-05, 9.63478404e-05, 8.80704730e-05, 8.48068512e-05,\n",
              "       8.14434872e-05, 7.74812879e-05, 7.44651861e-05, 7.04256658e-05,\n",
              "       7.02219376e-05, 6.80001674e-05, 6.33940812e-05, 6.25240739e-05,\n",
              "       5.95604595e-05, 5.59491719e-05, 5.46207184e-05, 5.26238797e-05,\n",
              "       4.96344629e-05, 4.80129186e-05, 4.65266353e-05, 4.39057616e-05,\n",
              "       3.98674789e-05, 3.92706214e-05, 3.85345517e-05, 3.69713364e-05,\n",
              "       3.64597446e-05, 3.34936130e-05, 3.33590475e-05, 3.12772576e-05,\n",
              "       2.94957538e-05, 2.83628085e-05, 2.55067420e-05, 2.45068424e-05,\n",
              "       2.30238105e-05, 2.25553491e-05, 2.11984371e-05, 2.06820668e-05,\n",
              "       1.88528289e-05, 1.83743065e-05, 1.76655917e-05, 1.64498021e-05,\n",
              "       1.57648219e-05, 1.43171307e-05, 1.39407535e-05, 1.35617305e-05,\n",
              "       1.28074153e-05, 1.18608402e-05, 1.11932086e-05, 1.07623469e-05,\n",
              "       1.04267574e-05, 9.41544942e-06, 9.32256351e-06, 8.87778175e-06,\n",
              "       8.47515045e-06, 7.61209807e-06, 7.34576152e-06, 6.69109120e-06,\n",
              "       6.26730024e-06, 5.78997154e-06, 5.48453048e-06, 5.01310914e-06,\n",
              "       4.77598328e-06, 4.35120568e-06, 4.12281413e-06, 3.95411283e-06,\n",
              "       3.74170818e-06, 3.46928977e-06, 3.21709087e-06, 2.87274000e-06,\n",
              "       2.57497550e-06, 2.45109645e-06, 2.30602219e-06, 2.08178930e-06,\n",
              "       1.89195583e-06, 1.78258103e-06, 1.75325656e-06, 1.55139272e-06,\n",
              "       1.52620312e-06, 1.29025182e-06, 1.17140928e-06, 1.11522280e-06,\n",
              "       1.04677780e-06, 9.02804551e-07, 7.64466956e-07, 7.13538781e-07,\n",
              "       6.14913030e-07, 5.79710977e-07, 5.13982978e-07, 3.60727058e-07,\n",
              "       2.76063619e-07, 2.47576015e-07, 2.12067333e-07, 1.92287579e-07,\n",
              "       1.41977549e-07, 6.08544045e-08, 1.40606571e-10, 1.92658720e-30,\n",
              "       3.79868919e-33, 2.31510592e-33, 1.71488166e-33, 1.68136190e-33,\n",
              "       8.46890225e-34, 8.46890225e-34, 8.46890225e-34, 8.46890225e-34,\n",
              "       8.46890225e-34, 8.46890225e-34, 8.46890225e-34, 8.46890225e-34,\n",
              "       8.46890225e-34, 8.46890225e-34, 8.46890225e-34, 8.46890225e-34,\n",
              "       8.46890225e-34, 8.46890225e-34, 8.46890225e-34, 8.46890225e-34,\n",
              "       8.46890225e-34, 8.46890225e-34, 8.46890225e-34, 8.46890225e-34,\n",
              "       8.46890225e-34, 8.46890225e-34, 8.46890225e-34, 8.46890225e-34,\n",
              "       8.46890225e-34, 8.46890225e-34, 8.46890225e-34, 8.46890225e-34,\n",
              "       8.46890225e-34, 8.46890225e-34, 8.46890225e-34, 8.46890225e-34,\n",
              "       8.46890225e-34, 8.46890225e-34, 8.46890225e-34, 8.46890225e-34,\n",
              "       8.46890225e-34, 8.46890225e-34, 8.46890225e-34, 8.46890225e-34,\n",
              "       8.46890225e-34, 8.46890225e-34, 8.46890225e-34, 8.46890225e-34,\n",
              "       8.46890225e-34, 8.46890225e-34, 8.46890225e-34, 8.46890225e-34,\n",
              "       8.46890225e-34, 8.46890225e-34, 8.46890225e-34, 8.46890225e-34,\n",
              "       8.46890225e-34, 8.46890225e-34, 8.46890225e-34, 8.46890225e-34,\n",
              "       8.46890225e-34, 8.46890225e-34, 8.46890225e-34, 8.46890225e-34,\n",
              "       8.46890225e-34, 8.46890225e-34, 8.46890225e-34, 8.46890225e-34,\n",
              "       8.46890225e-34, 8.46890225e-34, 8.46890225e-34, 8.46890225e-34,\n",
              "       8.46890225e-34, 8.46890225e-34, 8.46890225e-34, 8.46890225e-34,\n",
              "       8.46890225e-34, 8.46890225e-34, 8.46890225e-34, 8.46890225e-34,\n",
              "       8.46890225e-34, 8.46890225e-34, 3.51882295e-34, 1.97030725e-34])"
            ]
          },
          "metadata": {
            "tags": []
          },
          "execution_count": 15
        }
      ]
    },
    {
      "cell_type": "code",
      "metadata": {
        "colab": {
          "base_uri": "https://localhost:8080/",
          "height": 408
        },
        "id": "Uu1-4qbLMNM9",
        "outputId": "10ef2e0c-eef5-4eb1-ac7e-2e72a788b49c"
      },
      "source": [
        "# get component loadings (correlation coefficient between original variables and the component) \n",
        "loadings = pca_out.components_\n",
        "num_pc = pca_out.n_features_\n",
        "pc_list = [\"PC\"+str(i) for i in list(range(1, num_pc+1))]\n",
        "loadings_df = pd.DataFrame.from_dict(dict(zip(pc_list, loadings)))\n",
        "loadings_df['variable'] = descriptors\n",
        "# loadings_df = loadings_df.set_index('variable')\n",
        "loadings_df = loadings_df[[\"variable\", \"PC3\"]]\n",
        "loadings_df = loadings_df.sort_values(\"PC3\")\n",
        "loadings_df"
      ],
      "execution_count": null,
      "outputs": [
        {
          "output_type": "execute_result",
          "data": {
            "text/html": [
              "<div>\n",
              "<style scoped>\n",
              "    .dataframe tbody tr th:only-of-type {\n",
              "        vertical-align: middle;\n",
              "    }\n",
              "\n",
              "    .dataframe tbody tr th {\n",
              "        vertical-align: top;\n",
              "    }\n",
              "\n",
              "    .dataframe thead th {\n",
              "        text-align: right;\n",
              "    }\n",
              "</style>\n",
              "<table border=\"1\" class=\"dataframe\">\n",
              "  <thead>\n",
              "    <tr style=\"text-align: right;\">\n",
              "      <th></th>\n",
              "      <th>variable</th>\n",
              "      <th>PC3</th>\n",
              "    </tr>\n",
              "  </thead>\n",
              "  <tbody>\n",
              "    <tr>\n",
              "      <th>131</th>\n",
              "      <td>pretty_RB</td>\n",
              "      <td>-0.127581</td>\n",
              "    </tr>\n",
              "    <tr>\n",
              "      <th>55</th>\n",
              "      <td>cool_JJ</td>\n",
              "      <td>-0.117601</td>\n",
              "    </tr>\n",
              "    <tr>\n",
              "      <th>125</th>\n",
              "      <td>funny_JJ</td>\n",
              "      <td>-0.106447</td>\n",
              "    </tr>\n",
              "    <tr>\n",
              "      <th>92</th>\n",
              "      <td>leg_NN</td>\n",
              "      <td>-0.104106</td>\n",
              "    </tr>\n",
              "    <tr>\n",
              "      <th>51</th>\n",
              "      <td>nice_JJ</td>\n",
              "      <td>-0.103757</td>\n",
              "    </tr>\n",
              "    <tr>\n",
              "      <th>...</th>\n",
              "      <td>...</td>\n",
              "      <td>...</td>\n",
              "    </tr>\n",
              "    <tr>\n",
              "      <th>231</th>\n",
              "      <td>frustration_NN</td>\n",
              "      <td>0.119166</td>\n",
              "    </tr>\n",
              "    <tr>\n",
              "      <th>179</th>\n",
              "      <td>empower_VB</td>\n",
              "      <td>0.119633</td>\n",
              "    </tr>\n",
              "    <tr>\n",
              "      <th>139</th>\n",
              "      <td>vulnerable_JJ</td>\n",
              "      <td>0.119773</td>\n",
              "    </tr>\n",
              "    <tr>\n",
              "      <th>185</th>\n",
              "      <td>isolation_NN</td>\n",
              "      <td>0.121259</td>\n",
              "    </tr>\n",
              "    <tr>\n",
              "      <th>247</th>\n",
              "      <td>alienate_VB</td>\n",
              "      <td>0.125845</td>\n",
              "    </tr>\n",
              "  </tbody>\n",
              "</table>\n",
              "<p>284 rows × 2 columns</p>\n",
              "</div>"
            ],
            "text/plain": [
              "           variable       PC3\n",
              "131       pretty_RB -0.127581\n",
              "55          cool_JJ -0.117601\n",
              "125        funny_JJ -0.106447\n",
              "92           leg_NN -0.104106\n",
              "51          nice_JJ -0.103757\n",
              "..              ...       ...\n",
              "231  frustration_NN  0.119166\n",
              "179      empower_VB  0.119633\n",
              "139   vulnerable_JJ  0.119773\n",
              "185    isolation_NN  0.121259\n",
              "247     alienate_VB  0.125845\n",
              "\n",
              "[284 rows x 2 columns]"
            ]
          },
          "metadata": {
            "tags": []
          },
          "execution_count": 51
        }
      ]
    },
    {
      "cell_type": "code",
      "metadata": {
        "colab": {
          "base_uri": "https://localhost:8080/",
          "height": 380
        },
        "id": "z4A32l1tMvZE",
        "outputId": "f5ab107e-d5eb-4d75-cf99-0e0efd2f2e71"
      },
      "source": [
        "import matplotlib \n",
        "import matplotlib.pyplot as plt\n",
        "words = 40\n",
        "# plt.figure(figsize=(30,10))\n",
        "\n",
        "font = {'family' : 'normal',\n",
        "        'size'   : 8}\n",
        "\n",
        "matplotlib.rc('font', **font)\n",
        "plt.xticks(rotation=90)\n",
        "# plt.scatter(loadings_df['variable'][-words:], loadings_df['PC3'][-words:])\n",
        "plt.scatter(loadings_df['variable'][0:words], loadings_df['PC3'][0:words])\n",
        "plt.suptitle(\"PC3 First 40 Terms\")\n",
        "plt.show() # Depending on whether you use IPython or interactive mode, etc.\n",
        "print(loadings_df[\"variable\"].tolist())"
      ],
      "execution_count": null,
      "outputs": [
        {
          "output_type": "display_data",
          "data": {
            "image/png": "[encoded data removed]",
            "text/plain": [
              "<Figure size 432x288 with 1 Axes>"
            ]
          },
          "metadata": {
            "tags": [],
            "needs_background": "light"
          }
        },
        {
          "output_type": "stream",
          "text": [
            "['pretty_RB', 'cool_JJ', 'funny_JJ', 'leg_NN', 'nice_JJ', 'slightly_RB', \"'d_MD\", 'soft_JJ', 'really_RB', 'weird_JJ', 'quite_RB', 'hot_JJ', 'bit_NN', 'chest_NN', 'definitely_RB', 'finger_NN', 'very_RB', 'skin_NN', 'smell_VB', 'stomach_NN', 'around_RB', 'suddenly_RB', \"'m_VB\", 'while_NN', 'cold_JJ', 'warm_JJ', 'solid_JJ', 'almost_RB', 'everybody_NN', 'though_RB', 'breath_NN', \"'ve_VB\", 'strange_JJ', 'sharp_JJ', 'right_RB', 'always_RB', 'perfectly_RB', 'little_JJ', 'odd_JJ', 'something_NN', 'so_RB', 'still_RB', 'guess_VB', 'too_RB', 'heavy_JJ', 'contraction_NN', 'pleasant_JJ', 'touch_VB', 'taste_NN', 'extremely_RB', 'remember_VB', 'empty_JJ', 'enough_RB', \"n't_RB\", 'amazing_JJ', 'shake_VB', \"'re_VB\", 'moment_NN', 'body_NN', 'everyone_NN', 'relax_VB', 'ever_RB', 'sudden_JJ', 'somehow_RB', 'anything_NN', 'sensation_NN', 'absolutely_RB', 'totally_RB', 'wake_VB', 'gut_NN', 'dad_NN', 'touch_NN', 'wonderful_JJ', 'someone_NN', 'nauseous_JJ', 'dizzy_JJ', 'never_RB', 'tired_JJ', 'somewhat_RB', 'completely_RB', 'enough_JJ', 'look_NN', 'mind_NN', 'calm_JJ', 'alive_JJ', 'awful_JJ', 'pulse_NN', 'cry_VB', 'sometimes_RB', 'heat_NN', 'soul_NN', 'numb_JJ', 'warmth_NN', 'stupid_JJ', 'sick_JJ', 'slight_JJ', 'rush_VB', 'physically_RB', 'ca_MD', 'imagine_VB', 'earthquake_NN', 'familiar_JJ', 'way_NN', 'make_VB', 'lucky_JJ', 'hungry_JJ', 'bad_JJ', 'could_MD', 'good_JJ', 'happy_JJ', 'more_RB', 'truly_RB', 'awkward_JJ', 'mood_NN', 'do_VB', 'mix_VB', 'longer_RB', 'sad_JJ', 'begin_VB', 'nervous_JJ', 'leave_VB', 'pleasure_NN', 'weak_JJ', 'home_NN', 'terrible_JJ', 'might_MD', 'shock_NN', 'unpleasant_JJ', 'consciousness_NN', 'ready_JJ', 'relieved_JJ', 'love_VB', 'urge_NN', 'please_VB', 'exhaust_VB', 'people_NN', 'painful_JJ', 'email_VB', 'joy_NN', 'mother_NN', 'neutral_JJ', 'no_RB', 'excitement_NN', 'bless_VB', 'sorry_JJ', 'comfort_NN', 'hurt_VB', 'evoke_VB', 'deserve_VB', 'differently_RB', 'accomplishment_NN', 'personally_RB', 'love_NN', 'ought_MD', 'self_NN', 'relief_NN', 'deep_JJ', 'thought_NN', 'happiness_NN', 'pinch_NN', 'lonely_JJ', 'inner_JJ', 'pain_NN', 'convey_VB', 'alone_RB', 'fortunate_JJ', 'badly_RB', 'emotionally_RB', 'presence_NN', 'trap_VB', 'prepared_JJ', 'mixed_JJ', 'grateful_JJ', 'afraid_JJ', 'ease_NN', 'depressed_JJ', 'uneasy_JJ', 'tension_NN', 'safe_JJ', 'confused_JJ', 'cheat_VB', 'welcome_JJ', 'proud_JJ', 'arise_VB', 'belong_VB', 'passion_NN', 'free_JJ', 'embarrassed_JJ', 'emotion_NN', 'strong_JJ', 'ill_JJ', 'lack_VB', 'uncomfortable_JJ', 'sense_NN', 'experience_VB', 'privileged_JJ', 'comfortable_JJ', 'participant_NN', 'superior_JJ', 'sadness_NN', 'intense_JJ', 'contact_VB', 'satisfied_JJ', 'trust_VB', 'sorrow_NN', 'pity_NN', 'discomfort_NN', 'respondent_NN', 'overwhelming_JJ', 'hopeless_JJ', 'guilty_JJ', 'angry_JJ', 'ashamed_JJ', 'perception_NN', 'confident_JJ', 'connected_JJ', 'depression_NN', 'pressure_NN', 'satisfaction_NN', 'despair_NN', 'others_NN', 'genuine_JJ', 'honor_VB', 'disappointment_NN', 'hatred_NN', 'positive_JJ', 'emotional_JJ', 'desire_NN', 'overcome_VB', 'bind_VB', 'anxious_JJ', 'deeply_RB', 'gratitude_NN', 'stress_VB', 'pride_NN', 'remorse_NN', 'unsafe_JJ', 'unable_JJ', 'unhappy_JJ', 'stress_NN', 'competent_JJ', 'secure_JJ', 'sympathy_NN', 'confidence_NN', 'grief_NN', 'value_VB', 'strongly_RB', 'helpless_JJ', 'oblige_VB', 'obligate_VB', 'justified_JJ', 'overwhelm_VB', 'respect_VB', 'express_VB', 'obligation_NN', 'negative_JJ', 'compassion_NN', 'need_NN', 'keenly_RB', 'compel_VB', 'intimidate_VB', 'anger_NN', 'insecure_JJ', 'frustrated_JJ', 'pressured_JJ', 'isolated_JJ', 'helplessness_NN', 'fear_NN', 'abandon_VB', 'inadequate_JJ', 'shame_NN', 'anxiety_NN', 'resentment_NN', 'betray_VB', 'powerless_JJ', 'threaten_VB', 'guilt_NN', 'isolate_VB', 'constrain_VB', 'frustration_NN', 'empower_VB', 'vulnerable_JJ', 'isolation_NN', 'alienate_VB']\n"
          ],
          "name": "stdout"
        }
      ]
    },
    {
      "cell_type": "markdown",
      "metadata": {
        "id": "VOO-JoPNMXO-"
      },
      "source": [
        "#Clustering"
      ]
    },
    {
      "cell_type": "code",
      "metadata": {
        "colab": {
          "base_uri": "https://localhost:8080/"
        },
        "id": "P0DWpANncthX",
        "outputId": "ded9a128-1bfc-4ee3-fdb0-ee77f795226e"
      },
      "source": [
        "# https://stackoverflow.com/questions/47321133/sklearn-hierarchical-agglomerative-clustering-using-similarity-matrix\n",
        "\n",
        "from sklearn.cluster import AgglomerativeClustering\n",
        "\n",
        "clusters = 3\n",
        "clustering = AgglomerativeClustering(affinity='precomputed', n_clusters=clusters, linkage='complete').fit(scaled_distance_matrix)\n",
        "print(clustering.labels_)\n",
        "\n",
        "index_arrays = list(numpy.argwhere(clustering.labels_ == 2))\n",
        "\n",
        "for array in index_arrays:\n",
        "  print(descriptors[array[0]])"
      ],
      "execution_count": null,
      "outputs": [
        {
          "output_type": "stream",
          "text": [
            "[1 2 0 0 2 2 2 1 2 0 0 0 2 0 0 1 0 1 2 2 0 0 2 2 1 2 1 0 2 0 2 2 1 0 0 1 0\n",
            " 0 2 2 0 0 2 0 2 2 1 0 0 2 1 2 1 2 2 2 1 0 2 0 0 1 0 2 2 2 2 0 1 1 2 0 1 0\n",
            " 1 2 2 2 2 2 1 0 0 2 2 2 0 0 2 2 2 1 1 2 2 1 2 2 1 1 1 1 0 2 2 0 1 1 1 1 2\n",
            " 1 2 2 2 1 0 1 1 0 0 0 2 0 1 2 1 2 2 2 2 0 1 2 1 1 0 1 2 0 0 2 0 0 0 1 2 0\n",
            " 0 1 0 1 0 1 2 2 0 0 1 0 2 0 1 2 1 1 2 0 1 0 2 0 2 2 1 2 2 2 0 0 0 2 2 1 0\n",
            " 1 2 0 2 2 1 1 2 1 2 0 0 1 0 0 1 2 0 2 0 0 1 0 0 2 1 0 1 2 1 0 2 0 0 1 0 2\n",
            " 0 0 0 2 1 0 2 1 2 1 0 1 1 2 2 2 1 0 1 0 0 1 2 0 1 0 2 1 2 2 1 0 0 1 2 2 0\n",
            " 0 2 0 2 1 0 1 0 0 2 2 1 0 0 2 0 0 2 0 0 0 1 2 0 2]\n",
            "hot_JJ\n",
            "around_RB\n",
            "way_NN\n",
            "remember_VB\n",
            "ever_RB\n",
            "heavy_JJ\n",
            "no_RB\n",
            "leave_VB\n",
            "almost_RB\n",
            "begin_VB\n",
            "taste_NN\n",
            "while_NN\n",
            "mother_NN\n",
            "imagine_VB\n",
            "completely_RB\n",
            "heat_NN\n",
            "'re_VB\n",
            "'d_MD\n",
            "'ve_VB\n",
            "anything_NN\n",
            "nice_JJ\n",
            "absolutely_RB\n",
            "someone_NN\n",
            "cool_JJ\n",
            "familiar_JJ\n",
            "everybody_NN\n",
            "amazing_JJ\n",
            "perfectly_RB\n",
            "soft_JJ\n",
            "shake_VB\n",
            "everyone_NN\n",
            "still_RB\n",
            "n't_RB\n",
            "slightly_RB\n",
            "'m_VB\n",
            "never_RB\n",
            "always_RB\n",
            "empty_JJ\n",
            "wonderful_JJ\n",
            "presence_NN\n",
            "weak_JJ\n",
            "cry_VB\n",
            "right_RB\n",
            "alone_RB\n",
            "earthquake_NN\n",
            "definitely_RB\n",
            "something_NN\n",
            "totally_RB\n",
            "bit_NN\n",
            "sometimes_RB\n",
            "tension_NN\n",
            "pressure_NN\n",
            "funny_JJ\n",
            "somewhat_RB\n",
            "touch_VB\n",
            "afraid_JJ\n",
            "breath_NN\n",
            "guess_VB\n",
            "cold_JJ\n",
            "touch_NN\n",
            "odd_JJ\n",
            "pulse_NN\n",
            "wake_VB\n",
            "ill_JJ\n",
            "rush_VB\n",
            "stupid_JJ\n",
            "smell_VB\n",
            "shock_NN\n",
            "somehow_RB\n",
            "hungry_JJ\n",
            "overwhelming_JJ\n",
            "dad_NN\n",
            "intense_JJ\n",
            "badly_RB\n",
            "warm_JJ\n",
            "sick_JJ\n",
            "excitement_NN\n",
            "awful_JJ\n",
            "contraction_NN\n",
            "strange_JJ\n",
            "pain_NN\n",
            "unhappy_JJ\n",
            "terrible_JJ\n",
            "look_NN\n",
            "weird_JJ\n",
            "hurt_VB\n",
            "angry_JJ\n",
            "discomfort_NN\n",
            "confused_JJ\n",
            "sad_JJ\n",
            "anxious_JJ\n",
            "guilty_JJ\n",
            "warmth_NN\n",
            "hopeless_JJ\n",
            "tired_JJ\n",
            "sorry_JJ\n",
            "frustrated_JJ\n",
            "depressed_JJ\n",
            "lonely_JJ\n",
            "ashamed_JJ\n",
            "pinch_NN\n",
            "numb_JJ\n",
            "embarrassed_JJ\n",
            "dizzy_JJ\n",
            "nauseous_JJ\n"
          ],
          "name": "stdout"
        }
      ]
    },
    {
      "cell_type": "code",
      "metadata": {
        "colab": {
          "base_uri": "https://localhost:8080/"
        },
        "id": "LRX1hcjsjvWO",
        "outputId": "b62b6204-674b-46a4-86ef-9c80b64fbf72"
      },
      "source": [
        "print(scaled_distance_matrix.shape)"
      ],
      "execution_count": null,
      "outputs": [
        {
          "output_type": "stream",
          "text": [
            "(284, 284)\n"
          ],
          "name": "stdout"
        }
      ]
    },
    {
      "cell_type": "code",
      "metadata": {
        "colab": {
          "base_uri": "https://localhost:8080/"
        },
        "id": "rMD6Mk8Bw0OE",
        "outputId": "8bf3c86d-b37f-4aa4-db3f-cf88eeba8b18"
      },
      "source": [
        "a=[str(i) for i in range(284)]\n",
        "print(a)"
      ],
      "execution_count": null,
      "outputs": [
        {
          "output_type": "stream",
          "text": [
            "['0', '1', '2', '3', '4', '5', '6', '7', '8', '9', '10', '11', '12', '13', '14', '15', '16', '17', '18', '19', '20', '21', '22', '23', '24', '25', '26', '27', '28', '29', '30', '31', '32', '33', '34', '35', '36', '37', '38', '39', '40', '41', '42', '43', '44', '45', '46', '47', '48', '49', '50', '51', '52', '53', '54', '55', '56', '57', '58', '59', '60', '61', '62', '63', '64', '65', '66', '67', '68', '69', '70', '71', '72', '73', '74', '75', '76', '77', '78', '79', '80', '81', '82', '83', '84', '85', '86', '87', '88', '89', '90', '91', '92', '93', '94', '95', '96', '97', '98', '99', '100', '101', '102', '103', '104', '105', '106', '107', '108', '109', '110', '111', '112', '113', '114', '115', '116', '117', '118', '119', '120', '121', '122', '123', '124', '125', '126', '127', '128', '129', '130', '131', '132', '133', '134', '135', '136', '137', '138', '139', '140', '141', '142', '143', '144', '145', '146', '147', '148', '149', '150', '151', '152', '153', '154', '155', '156', '157', '158', '159', '160', '161', '162', '163', '164', '165', '166', '167', '168', '169', '170', '171', '172', '173', '174', '175', '176', '177', '178', '179', '180', '181', '182', '183', '184', '185', '186', '187', '188', '189', '190', '191', '192', '193', '194', '195', '196', '197', '198', '199', '200', '201', '202', '203', '204', '205', '206', '207', '208', '209', '210', '211', '212', '213', '214', '215', '216', '217', '218', '219', '220', '221', '222', '223', '224', '225', '226', '227', '228', '229', '230', '231', '232', '233', '234', '235', '236', '237', '238', '239', '240', '241', '242', '243', '244', '245', '246', '247', '248', '249', '250', '251', '252', '253', '254', '255', '256', '257', '258', '259', '260', '261', '262', '263', '264', '265', '266', '267', '268', '269', '270', '271', '272', '273', '274', '275', '276', '277', '278', '279', '280', '281', '282', '283']\n"
          ],
          "name": "stdout"
        }
      ]
    },
    {
      "cell_type": "code",
      "metadata": {
        "colab": {
          "base_uri": "https://localhost:8080/",
          "height": 620
        },
        "id": "vi8LgQkri5g_",
        "outputId": "c2d71359-bebc-4eaa-ca35-3e0eaeaa8790"
      },
      "source": [
        "from scipy.cluster.hierarchy import dendrogram, linkage\n",
        "from scipy.spatial.distance import squareform\n",
        "\n",
        "# reference: https://stackoverflow.com/questions/41416498/dendrogram-or-other-plot-from-distance-matrix?rq=1\n",
        "\n",
        "import matplotlib.pyplot as plt\n",
        "\n",
        "plt.title(\"test\")\n",
        "plt.figure(figsize=(50,20))\n",
        "# convert the redundant n*n square matrix form into a condensed nC2 array\n",
        "# distArray = squareform(scaled_distance_matrix, checks=False)\n",
        "# linkage_matrix = linkage(distArray, \"single\")\n",
        "dendrogram(linkage_matrix, labels=descriptors,\n",
        "           leaf_rotation=90.,  # rotates the x axis labels\n",
        "          leaf_font_size=8.,  # font size for the x axis labels)\n",
        ")\n",
        "plt.show()"
      ],
      "execution_count": null,
      "outputs": [
        {
          "output_type": "display_data",
          "data": {
            "image/png": "[encoded data removed]",
            "text/plain": [
              "<Figure size 432x288 with 1 Axes>"
            ]
          },
          "metadata": {
            "tags": []
          }
        },
        {
          "output_type": "display_data",
          "data": {
            "image/png": "[encoded data removed]",
            "text/plain": [
              "<Figure size 3600x1440 with 1 Axes>"
            ]
          },
          "metadata": {
            "tags": []
          }
        }
      ]
    },
    {
      "cell_type": "markdown",
      "metadata": {
        "id": "P7tPoJDm-zqL"
      },
      "source": [
        "#Identify Contexts"
      ]
    },
    {
      "cell_type": "code",
      "metadata": {
        "id": "xnfJwq9b_qys"
      },
      "source": [
        "########## \n",
        "#\n",
        "# Checks if file name already exists. If it does, adds a file nr to it\n",
        "#\n",
        "#########\n",
        "    \n",
        "def checkFilename(filename, mypath):\n",
        "    \n",
        "    # Check if file name already exists\n",
        "    if os.path.exists(os.path.join(mypath, filename)):\n",
        "        filenr = [1]\n",
        "        \n",
        "        # get files, extension and fname\n",
        "        files = [f for f in os.listdir(mypath) if os.path.isfile(os.path.join(mypath, f))]\n",
        "        extension = re.match(r'.*(\\..*)$', filename).group(1)\n",
        "        fname = re.sub(extension, '', filename)\n",
        "        \n",
        "        NOs = 0\n",
        "        # look for file matches\n",
        "        for f in files:\n",
        "            cMatch = re.match(fname + '\\_([0-9]+)\\..*', f)\n",
        "        \n",
        "            if cMatch:\n",
        "                NOs = NOs + 1\n",
        "                filenr.append(int(cMatch.group(1)))\n",
        "                \n",
        "        filenr = max(filenr) + 1\n",
        "            \n",
        "        # set new file name\n",
        "        filename = fname + '_' + str(filenr) + extension     \n",
        "    return(filename)"
      ],
      "execution_count": null,
      "outputs": []
    },
    {
      "cell_type": "code",
      "metadata": {
        "id": "KEUOjEiE-075"
      },
      "source": [
        "########\n",
        "# \n",
        "# Identify olfactory contexts from fixed UMBC file\n",
        "#\n",
        "########\n",
        "    \n",
        "def identify_olfactory_contexts(corpusdir, targetdir=[], OlfWords = []):    \n",
        "    \n",
        "    ######\n",
        "    # Setup\n",
        "    ######\n",
        "    \n",
        "    # Get start time\n",
        "    starttime = time.time()\n",
        "    \n",
        "    print('\\n\\n************************************************************************************************')\n",
        "    print('Identifying olfactory contexts in UMBC corpus on basis of olfactory words, this will take some time.\\n')\n",
        "    \n",
        "    # Get file names\n",
        "    files = [cfile for cfile in os.listdir(corpusdir) if (re.search(r'^UMBC_lines.*', cfile))]\n",
        "    fileIDs = [re.search(r'_(\\d+)\\.', i).group(1) for i in files]\n",
        "    \n",
        "    # Check taget dir\n",
        "    if not targetdir:\n",
        "        print('WARNING. No target dir provided. Saves will be made to corpus directory.\\n')\n",
        "        print('(However, I will adjust the filename of the output files if they already exists.)')\n",
        "        targetdir = corpusdir\n",
        "        \n",
        "        \n",
        "    # Loop over file IDs\n",
        "    for fileID in fileIDs:\n",
        "        cFile = u'UMBC_lines_' + str(fileID) + '.json'\n",
        "        cOlfFile = u'UMBC_olfIDs_' + str(fileID) + '.json'\n",
        "        cOlfFile = checkFilename(cOlfFile, targetdir)\n",
        "        \n",
        "        print('\\nWorking file: ' + cFile + '....')\n",
        "        \n",
        "        # load current sentences from file    \n",
        "        cf = open(os.path.join(corpusdir, cFile), 'r')\n",
        "        cSentences = json.load(cf)\n",
        "        cf.close()\n",
        "        \n",
        "        # Setup olfactory ID data to putput results to\n",
        "        olflines = []\n",
        "        \n",
        "        # Loop over sentences in current file\n",
        "        for scount, cSentence in enumerate(cSentences):\n",
        "\n",
        "            # Loop over words in current sentece\n",
        "            for cword in cSentence:\n",
        "                \n",
        "                # Check for olfactory words in sentence            \n",
        "                if any([re.search(oword, cword) for oword in OlfWords]):\n",
        "                    print('.', end='')\n",
        "                    olflines.append(scount)\n",
        "                    \n",
        "        # Current file is done. Dump .json-sentence file and .json-olf ID file\n",
        "        print('\\n' + cFile + ' is done! Saving ' + cOlfFile + '....\\n')\n",
        "        \n",
        "        cfile = open(os.path.join(targetdir, cOlfFile), 'w')\n",
        "        json.dump(olflines, cfile)\n",
        "        cfile.close()\n",
        "                      \n",
        "    # All files are done. Report and return POS tags\n",
        "    print('\\n\\n********************************************************************')\n",
        "    print('All files done!\\n')\n",
        "    print('It took ' + str(time.time() - starttime) + ' seconds to work ' + str(len(files)) + ' files.')"
      ],
      "execution_count": null,
      "outputs": []
    },
    {
      "cell_type": "code",
      "metadata": {
        "id": "M2OHIrIR_VzD"
      },
      "source": [
        "OlfWords = ['^feel_.*$', '^feeling_.*$', '^feelings_.*$', '^feels_.*$', '^felt_.*$']\n",
        "corpusdir =  '/content/drive/My Drive/umbc/'\n",
        "targetdir = '/content/drive/My Drive/umbc_context'"
      ],
      "execution_count": null,
      "outputs": []
    },
    {
      "cell_type": "code",
      "metadata": {
        "colab": {
          "base_uri": "https://localhost:8080/",
          "height": 306
        },
        "id": "Erj-pACB_RjC",
        "outputId": "cfa0d1c5-b9cc-42ca-cf6c-23e3d2851510"
      },
      "source": [
        "identify_olfactory_contexts(corpusdir, targetdir, OlfWords = OlfWords)"
      ],
      "execution_count": null,
      "outputs": [
        {
          "output_type": "stream",
          "text": [
            "\n",
            "\n",
            "************************************************************************************************\n",
            "Identifying olfactory contexts in UMBC corpus on basis of olfactory words, this will take some time.\n",
            "\n",
            "\n",
            "Working file: UMBC_lines_1.json....\n",
            ".................................................................................................................................................................................................................................................................................................................................................................................................................................................................................................................................................................................................................................................................................................................................................................................................................................................................................................................................................................................................................................................................................................................................................................................................................................................................................................................................................................................................................................................................................................................................................................................................................................................................................................................................................................................................................................................................................................................................................................................................................................................................................................................................................................................................................................................................................................................................................................................................................................................................................................................................................................................................................................................................................................................................................................................................................................................................................................................................................................................................................................................................................................................................................................................................................................................................................................................................................................................................................................................................................................................................................................................................................................................................................................................................................................................................................................................................................................................................................................................................................................................\n",
            "UMBC_lines_1.json is done! Saving UMBC_olfIDs_1.json....\n",
            "\n",
            "\n",
            "\n",
            "********************************************************************\n",
            "All files done!\n",
            "\n",
            "It took 30.844268560409546 seconds to work 1 files.\n"
          ],
          "name": "stdout"
        }
      ]
    },
    {
      "cell_type": "code",
      "metadata": {
        "id": "cVQ_Z8zwCbfW"
      },
      "source": [
        "########\n",
        "#\n",
        "# Extracts olfactory descriptors from UMBC corpus\n",
        "#\n",
        "########\n",
        "    \n",
        "def get_descriptors(corpusdir, descfile = 'DescriptorFile.csv', olffile = 'DescriptorFile_OlfactoryFrequencies.csv', \n",
        "                    ctxtdir = [], OlfWords = [], distance = [], POStags = ['NN', 'NNS', 'NNP', 'NNPS', 'JJ', 'JJR', 'JJS', 'COLL'], \n",
        "                    ctxtoutdir = 'UMBC Corpus/', save_contexts = False, verbose=False, min_Ns=20, asDataFrame=True, mergePOS=True, olfFrequenciesOnly = False):\n",
        "   \n",
        "    ######\n",
        "    # Setup\n",
        "    ######\n",
        "    \n",
        "    # Get start time\n",
        "    totalstarttime = time.time() \n",
        "    \n",
        "    # If no context directory is provided, assume that context files are located in same folder\n",
        "    if not ctxtdir:\n",
        "        ctxtdir = corpusdir\n",
        "    \n",
        "    # Get file names\n",
        "    cFiles = [cfile for cfile in os.listdir(corpusdir) if (re.search(r'UMBC_lines.*.$', cfile))]\n",
        "    oFiles = [cfile for cfile in os.listdir(ctxtdir) if (re.search(r'UMBC_olfIDs.*.$', cfile))]\n",
        "    fileIDs = [re.search(r'_(\\d+)\\.', i).group(1) for i in cFiles]\n",
        "    \n",
        "    # Fix POS search string\n",
        "    possearch = \"(\" + \"|\".join(POStags) + \")\"\n",
        "    \n",
        "    # setup target dictionary\n",
        "    descriptors = dict()\n",
        "    \n",
        "\n",
        "    #########\n",
        "    # Loop over files in order to extract descriptor terms and count occurrences in\n",
        "    # olfactory contexts. Total frequencies are counted later.\n",
        "    #########\n",
        "    \n",
        "    print('\\n\\n*********************************************************************************************')\n",
        "    print('Starting to extract olfactory descriptors from the UMBC corpus, this will take some time.\\n')\n",
        "    \n",
        "    extractstarttime = time.time()\n",
        "\n",
        "    for idx, cFile in enumerate(cFiles): \n",
        "        \n",
        "        # Get file start time\n",
        "        filestarttime = time.time()\n",
        "        \n",
        "        if verbose:\n",
        "            print('\\nWorking file: ' + cFile + ' (nr ' + str(idx + 1) + ')....')\n",
        "        \n",
        "        # load current sentences from file    \n",
        "        cf = open(os.path.join(corpusdir, cFile), 'r')\n",
        "        cSentences = json.load(cf)\n",
        "        cf.close()\n",
        "        \n",
        "        # load current olfactory contexts from file \n",
        "        cf = open(os.path.join(ctxtdir, oFiles[idx]), 'r')\n",
        "        cOlfCtxts = set(json.load(cf))\n",
        "        cf.close()\n",
        "        \n",
        "        # If contexts are to be saved, set up output context list\n",
        "        if save_contexts:\n",
        "            outContexts = []\n",
        "        \n",
        "        # work olfactory contexts\n",
        "        for cCtxt in cOlfCtxts:\n",
        "            cs = cSentences[cCtxt]\n",
        "            \n",
        "            # get olfactory-related terms and positions in current sentence       \n",
        "            cOWs = [[cw, x] for x, cw in enumerate(cs) if any([re.search(ow, cw) for ow in OlfWords])]\n",
        "        \n",
        "            # Do not continue if any terms have been found \n",
        "            if not cOWs:\n",
        "                continue\n",
        "            \n",
        "            # Else loop over identified terms and extract descriptor terms\n",
        "            cIDs = []\n",
        "            for cOW in cOWs:\n",
        "                \n",
        "                # Identify start word\n",
        "                start = cOW[1] - distance\n",
        "                if start < 0:\n",
        "                    start = 0\n",
        "                    \n",
        "                # Identify end word\n",
        "                end = cOW[1] + distance\n",
        "                if end > len(cs)-1:\n",
        "                    end = len(cs)-1\n",
        "                    \n",
        "                # calculate word ids\n",
        "                wds = set(range(start, end+1))\n",
        "                \n",
        "                # if contexts are to be saved, append current context together with current sentence number\n",
        "                if save_contexts:\n",
        "                    outContexts.append([[cCtxt], [cs[i] for i in wds]])\n",
        "                \n",
        "                # remove IDs to olfactory terms\n",
        "                for c in cOWs:\n",
        "                    if any([i == c[1] for i in wds]):\n",
        "                        wds.remove(c[1])\n",
        "                \n",
        "                # Remove IDs to unwanted POS words if requested\n",
        "                if POStags:\n",
        "                    for w in list(wds):\n",
        "                        if not (re.search(r'^.*_' + possearch + '$', cs[w])):\n",
        "                            wds.remove(w)\n",
        "                \n",
        "                # Append identified words to cIDs\n",
        "                cIDs.append(wds)\n",
        "                \n",
        "            # Finally join ID sets in cIDs in order to extract final IDs of the current sentence\n",
        "            IDs = set()\n",
        "            for cID in cIDs:\n",
        "                IDs = IDs.union(cID)\n",
        "                \n",
        "            # Loop over identified words and add their frequency to the dictionary\n",
        "            for cID in IDs:\n",
        "                # Merge POS of current word if requested\n",
        "                if mergePOS:\n",
        "                    cw = re.search(r'(^.*_COLL|^.*_..)($|.*$)', cs[cID]).group(1)  \n",
        "                    cwt = cs[cID]\n",
        "                    \n",
        "                # Else just extract word\n",
        "                else:\n",
        "                    cw = cs[cID]\n",
        "                    \n",
        "                # check if descriptor is already in dictionary, if so, increment count\n",
        "                if any([d == cw for d in descriptors.keys()]):\n",
        "                    descriptors[cw][0] += 1\n",
        "                  \n",
        "                    # if POSes are merged, check if current token is availible. If not, add it.\n",
        "                    if mergePOS:\n",
        "                        if not cwt in descriptors[cw][2]:\n",
        "                            descriptors[cw][2].append(cwt)\n",
        "                \n",
        "                # if not in dictionary, add new item; second item is total frequency, counted later on\n",
        "                else:\n",
        "                    # if POSes are merged, add current token\n",
        "                    if mergePOS:\n",
        "                        descriptors[cw] = [1, 0, [cwt]]\n",
        "                    else:\n",
        "                       descriptors[cw] = [1, 0]\n",
        "        \n",
        "        # File is done, report\n",
        "        if verbose:\n",
        "            print('Done! It took ' + str(time.time() - filestarttime) + ' seconds to work ' + str(len(cOlfCtxts)) + ' items.')\n",
        "            \n",
        "        # If contexts are to be saved, save current output context file\n",
        "        if save_contexts:\n",
        "            print(u'Saving current context file in ' + ctxtoutdir + '...\\n')\n",
        "            ctxtFileName = u'UMBC_contexts_' + str(fileIDs[idx]) + '.json'\n",
        "            cf = open(os.path.join(ctxtoutdir, ctxtFileName), 'w')\n",
        "            json.dump(outContexts, cf)\n",
        "            cf.close()\n",
        "            \n",
        "    # All files are done, report\n",
        "    print('\\n---------------------------------------------------------------------')\n",
        "    print('Descriptor term extraction is done!')\n",
        "    print('It took ' + str(time.time() - extractstarttime) + ' seconds to work ' + str(len(cFiles)) + ' files.')\n",
        "    \n",
        "    # If availible, remove descriptors with less than min_Ns tokens\n",
        "    if min_Ns:\n",
        "        print('\\nRemoving descriptors with less than ' + str(min_Ns) + ' tokens in olfactory contexts...')\n",
        "        \n",
        "        # Loop over descriptors\n",
        "        for cDisc in list(descriptors.keys()):\n",
        "            if descriptors[cDisc][0] < min_Ns:\n",
        "                del descriptors[cDisc]\n",
        "   \n",
        "    print('Nr of descriptors identified: ' + str(len(descriptors)) + '\\n')\n",
        "        \n",
        "    if (olfFrequenciesOnly):\n",
        "        print('Returning and saving olfactory frequencies only as requested....\\n')\n",
        "        \n",
        "        # Go through descriptors to only include olfactory frequencies\n",
        "        for dk in list(descriptors.keys()):\n",
        "            descriptors[dk] = descriptors[dk][0]\n",
        "        \n",
        "        if asDataFrame:   \n",
        "            descriptors = pandas.DataFrame.from_dict(descriptors, orient='index', columns=['OlfN'])\n",
        "            descriptors.to_csv(descfile)\n",
        "        \n",
        "        else:\n",
        "            cf = open(descfile, 'w')\n",
        "            json.dump(descriptors, cf)\n",
        "            cf.close()\n",
        "        \n",
        "        return(descriptors) \n",
        "        \n",
        "    if (olffile):\n",
        "        print('Saving olfactory items before counting total frequencies as requested...\\n')\n",
        "        \n",
        "        # If to save as data frame\n",
        "        if asDataFrame:\n",
        "            \n",
        "            if mergePOS:  \n",
        "                pandas.DataFrame.from_dict(descriptors, orient='index', columns=['OlfN', 'TotalN', 'Tokens']).to_csv(olffile)    \n",
        "            else:\n",
        "                pandas.DataFrame.from_dict(descriptors, orient='index', columns=['OlfN', 'TotalN']).to_csv(olffile)\n",
        "        \n",
        "        else:\n",
        "            cf = open(olffile, 'w')\n",
        "            json.dump(descriptors, cf)\n",
        "            cf.close()\n",
        "\n",
        "       \n",
        "    #########\n",
        "    # Loop over identified descriptors and count total frequencies within each file.\n",
        "    #########\n",
        "    \n",
        "    print('\\n********************************************************************************************************')\n",
        "    print('Starting to count total descriptor frequencies from the UMBC corpus, this will also take time.\\n')\n",
        "    \n",
        "    freqcountstarttime = time.time()\n",
        "    \n",
        "    # Loop over files\n",
        "    for idx, cFile in enumerate(cFiles): \n",
        "        \n",
        "        if verbose:\n",
        "            print('\\nWorking file: ' + cFile + ' (nr ' + str(idx + 1) +')....')\n",
        "            print('-------------------------------------')\n",
        "                \n",
        "        # Get file start time\n",
        "        filestarttime = time.time()\n",
        "            \n",
        "        # load current sentences from file    \n",
        "        cf = open(os.path.join(corpusdir, cFile), 'r')\n",
        "        cSentences = json.load(cf)\n",
        "        cf.close()\n",
        "        \n",
        "        if verbose:\n",
        "            print('Searching for descriptors in current file...')\n",
        "            \n",
        "        # Loop over descriptors\n",
        "        for cDisc in list(descriptors.keys()):\n",
        "            \n",
        "            # Loop over sentences\n",
        "            for cs in cSentences:\n",
        "                \n",
        "                cHits = []\n",
        "                # Check for occurrences of current descriptor in current sentence\n",
        "                # if POSes are merged in descriptors, search through all tokens\n",
        "                if mergePOS:\n",
        "                    for cdt in descriptors[cDisc][2]: \n",
        "                        cHit = [x for x in cs if x == cdt]\n",
        "                        if cHit:\n",
        "                            if cHits:\n",
        "                                cHits.append(cHit)\n",
        "                            else:\n",
        "                                cHits = cHit\n",
        "\n",
        "                else:\n",
        "                    cHits = [x for x in cs if x == cDisc]\n",
        "                \n",
        "                # If current descriptor is in current sentence, increment by no of instances\n",
        "                if cHits:\n",
        "                    descriptors[cDisc][1] += len(cHits)\n",
        "        \n",
        "        if verbose:            \n",
        "            print('\\n' + cFile + ' is done! It took ' + str(time.time() - filestarttime) + ' seconds to work ' + str(len(cSentences)) + ' items.') \n",
        "         \n",
        "    # File is done, report\n",
        "    print('\\n\\n*************************************************************************')\n",
        "    print('Descriptor frequency count is done!')\n",
        "    print('It took ' + str(time.time() - freqcountstarttime) + ' seconds to work ' + str(len(descriptors.keys())) + ' descriptors.')\n",
        "    \n",
        "    print('\\nCalculating OAI and OSI for each term...')\n",
        "    \n",
        "    # Get total context frequencies\n",
        "    tf = sum([descriptors[d][0] for d in descriptors.keys()])\n",
        "    \n",
        "    # Calculate OAI and OSI for each term\n",
        "    for d in descriptors.keys():\n",
        "       \n",
        "        # Append OAI \n",
        "        descriptors[d].append(numpy.log2(descriptors[d][0] / descriptors[d][1]))\n",
        "        \n",
        "        # Append OSI\n",
        "        descriptors[d].append(-numpy.log2(descriptors[d][0] / tf))\n",
        "     \n",
        "    print('\\nSaving descriptor data....')\n",
        "\n",
        "    if asDataFrame: \n",
        "        if mergePOS:\n",
        "                descriptors = pandas.DataFrame.from_dict(descriptors, orient='index', columns=['OlfN', 'TotalN', 'Tokens', 'OAI', 'OSI'])\n",
        "        else:\n",
        "                descriptors = pandas.DataFrame.from_dict(descriptors, orient='index', columns=['OlfN', 'TotalN', 'OAI', 'OSI'])\n",
        "        \n",
        "        descriptors.to_csv(descfile)\n",
        "        \n",
        "    else:\n",
        "        cf = open(descfile, 'w')\n",
        "        json.dump(descriptors, cf)\n",
        "        cf.close()\n",
        "    \n",
        "    print('\\n\\n*****************************************************************')\n",
        "    print('All done!')\n",
        "    print('Total processing time: ' + str(time.time() - totalstarttime) + '\\n\\n')\n",
        "    return(descriptors)    "
      ],
      "execution_count": null,
      "outputs": []
    },
    {
      "cell_type": "code",
      "metadata": {
        "id": "nekO4mmeFTUP"
      },
      "source": [
        "########\n",
        "#\n",
        "# Extracts olfactory descriptors from UMBC corpus\n",
        "#\n",
        "########\n",
        "    \n",
        "def get_descriptors(corpusdir, descfile = 'DescriptorFile.csv', olffile = 'DescriptorFile_OlfactoryFrequencies.csv', \n",
        "                    ctxtdir = [], OlfWords = [], distance = [], POStags = ['NN', 'NNS', 'NNP', 'NNPS', 'JJ', 'JJR', 'JJS', 'COLL'], \n",
        "                    ctxtoutdir = 'UMBC Corpus/', save_contexts = False, verbose=False, min_Ns=20, asDataFrame=True, mergePOS=True, olfFrequenciesOnly = False):\n",
        "   \n",
        "    ######\n",
        "    # Setup\n",
        "    ######\n",
        "    \n",
        "    # Get start time\n",
        "    totalstarttime = time.time() \n",
        "    \n",
        "    # If no context directory is provided, assume that context files are located in same folder\n",
        "    if not ctxtdir:\n",
        "        ctxtdir = corpusdir\n",
        "    \n",
        "    # Get file names\n",
        "    cFiles = [cfile for cfile in os.listdir(corpusdir) if (re.search(r'UMBC_lines.*.$', cfile))]\n",
        "    oFiles = [cfile for cfile in os.listdir(ctxtdir) if (re.search(r'UMBC_olfIDs.*.$', cfile))]\n",
        "    fileIDs = [re.search(r'_(\\d+)\\.', i).group(1) for i in cFiles]\n",
        "    \n",
        "    # Fix POS search string\n",
        "    possearch = \"(\" + \"|\".join(POStags) + \")\"\n",
        "    \n",
        "    # setup target dictionary\n",
        "    descriptors = dict()\n",
        "    \n",
        "\n",
        "    #########\n",
        "    # Loop over files in order to extract descriptor terms and count occurrences in\n",
        "    # olfactory contexts. Total frequencies are counted later.\n",
        "    #########\n",
        "    \n",
        "    print('\\n\\n*********************************************************************************************')\n",
        "    print('Starting to extract olfactory descriptors from the UMBC corpus, this will take some time.\\n')\n",
        "    \n",
        "    extractstarttime = time.time()\n",
        "\n",
        "    for idx, cFile in enumerate(cFiles): \n",
        "        \n",
        "        # Get file start time\n",
        "        filestarttime = time.time()\n",
        "        \n",
        "        if verbose:\n",
        "            print('\\nWorking file: ' + cFile + ' (nr ' + str(idx + 1) + ')....')\n",
        "        \n",
        "        # load current sentences from file    \n",
        "        cf = open(os.path.join(corpusdir, cFile), 'r')\n",
        "        cSentences = json.load(cf)\n",
        "        cf.close()\n",
        "        \n",
        "        # load current olfactory contexts from file \n",
        "        cf = open(os.path.join(ctxtdir, oFiles[idx]), 'r')\n",
        "        cOlfCtxts = set(json.load(cf))\n",
        "        cf.close()\n",
        "        \n",
        "        # If contexts are to be saved, set up output context list\n",
        "        if save_contexts:\n",
        "            outContexts = []\n",
        "        \n",
        "        # work olfactory contexts\n",
        "        for cCtxt in cOlfCtxts:\n",
        "            cs = cSentences[cCtxt]\n",
        "            \n",
        "            # get olfactory-related terms and positions in current sentence       \n",
        "            cOWs = [[cw, x] for x, cw in enumerate(cs) if any([re.search(ow, cw) for ow in OlfWords])]\n",
        "        \n",
        "            # Do not continue if any terms have been found \n",
        "            if not cOWs:\n",
        "                continue\n",
        "            \n",
        "            # Else loop over identified terms and extract descriptor terms\n",
        "            cIDs = []\n",
        "            for cOW in cOWs:\n",
        "                \n",
        "                # Identify start word\n",
        "                start = cOW[1] - distance\n",
        "                if start < 0:\n",
        "                    start = 0\n",
        "                    \n",
        "                # Identify end word\n",
        "                end = cOW[1] + distance\n",
        "                if end > len(cs)-1:\n",
        "                    end = len(cs)-1\n",
        "                    \n",
        "                # calculate word ids\n",
        "                wds = set(range(start, end+1))\n",
        "                \n",
        "                # if contexts are to be saved, append current context together with current sentence number\n",
        "                if save_contexts:\n",
        "                    outContexts.append([[cCtxt], [cs[i] for i in wds]])\n",
        "                \n",
        "                # remove IDs to olfactory terms\n",
        "                for c in cOWs:\n",
        "                    if any([i == c[1] for i in wds]):\n",
        "                        wds.remove(c[1])\n",
        "                \n",
        "                # Remove IDs to unwanted POS words if requested\n",
        "                if POStags:\n",
        "                    for w in list(wds):\n",
        "                        if not (re.search(r'^.*_' + possearch + '$', cs[w])):\n",
        "                            wds.remove(w)\n",
        "                \n",
        "                # Append identified words to cIDs\n",
        "                cIDs.append(wds)\n",
        "                \n",
        "            # Finally join ID sets in cIDs in order to extract final IDs of the current sentence\n",
        "            IDs = set()\n",
        "            for cID in cIDs:\n",
        "                IDs = IDs.union(cID)\n",
        "                \n",
        "            # Loop over identified words and add their frequency to the dictionary\n",
        "            for cID in IDs:\n",
        "                # Merge POS of current word if requested\n",
        "                if mergePOS:\n",
        "                    cw = re.search(r'(^.*_COLL|^.*_..)($|.*$)', cs[cID]).group(1)  \n",
        "                    cwt = cs[cID]\n",
        "                    \n",
        "                # Else just extract word\n",
        "                else:\n",
        "                    cw = cs[cID]\n",
        "                    \n",
        "                # check if descriptor is already in dictionary, if so, increment count\n",
        "                if any([d == cw for d in descriptors.keys()]):\n",
        "                    descriptors[cw][0] += 1\n",
        "                  \n",
        "                    # if POSes are merged, check if current token is availible. If not, add it.\n",
        "                    if mergePOS:\n",
        "                        if not cwt in descriptors[cw][2]:\n",
        "                            descriptors[cw][2].append(cwt)\n",
        "                \n",
        "                # if not in dictionary, add new item; second item is total frequency, counted later on\n",
        "                else:\n",
        "                    # if POSes are merged, add current token\n",
        "                    if mergePOS:\n",
        "                        descriptors[cw] = [1, 0, [cwt]]\n",
        "                    else:\n",
        "                       descriptors[cw] = [1, 0]\n",
        "        \n",
        "        # File is done, report\n",
        "        if verbose:\n",
        "            print('Done! It took ' + str(time.time() - filestarttime) + ' seconds to work ' + str(len(cOlfCtxts)) + ' items.')\n",
        "            \n",
        "        # If contexts are to be saved, save current output context file\n",
        "        if save_contexts:\n",
        "            print(u'Saving current context file in ' + ctxtoutdir + '...\\n')\n",
        "            ctxtFileName = u'UMBC_contexts_' + str(fileIDs[idx]) + '.json'\n",
        "            cf = open(os.path.join(ctxtoutdir, ctxtFileName), 'w')\n",
        "            json.dump(outContexts, cf)\n",
        "            cf.close()\n",
        "            \n",
        "    # All files are done, report\n",
        "    print('\\n---------------------------------------------------------------------')\n",
        "    print('Descriptor term extraction is done!')\n",
        "    print('It took ' + str(time.time() - extractstarttime) + ' seconds to work ' + str(len(cFiles)) + ' files.')\n",
        "    \n",
        "    # If availible, remove descriptors with less than min_Ns tokens\n",
        "    if min_Ns:\n",
        "        print('\\nRemoving descriptors with less than ' + str(min_Ns) + ' tokens in olfactory contexts...')\n",
        "        \n",
        "        # Loop over descriptors\n",
        "        for cDisc in list(descriptors.keys()):\n",
        "            if descriptors[cDisc][0] < min_Ns:\n",
        "                del descriptors[cDisc]\n",
        "   \n",
        "    print('Nr of descriptors identified: ' + str(len(descriptors)) + '\\n')\n",
        "        \n",
        "    if (olfFrequenciesOnly):\n",
        "        print('Returning and saving olfactory frequencies only as requested....\\n')\n",
        "        \n",
        "        # Go through descriptors to only include olfactory frequencies\n",
        "        for dk in list(descriptors.keys()):\n",
        "            descriptors[dk] = descriptors[dk][0]\n",
        "        \n",
        "        if asDataFrame:   \n",
        "            descriptors = pandas.DataFrame.from_dict(descriptors, orient='index', columns=['OlfN'])\n",
        "            descriptors.to_csv(descfile)\n",
        "        \n",
        "        else:\n",
        "            cf = open(descfile, 'w')\n",
        "            json.dump(descriptors, cf)\n",
        "            cf.close()\n",
        "        \n",
        "        return(descriptors) \n",
        "        \n",
        "    if (olffile):\n",
        "        print('Saving olfactory items before counting total frequencies as requested...\\n')\n",
        "        \n",
        "        # If to save as data frame\n",
        "        if asDataFrame:\n",
        "            \n",
        "            if mergePOS:  \n",
        "                pandas.DataFrame.from_dict(descriptors, orient='index', columns=['OlfN', 'TotalN', 'Tokens']).to_csv(olffile)    \n",
        "            else:\n",
        "                pandas.DataFrame.from_dict(descriptors, orient='index', columns=['OlfN', 'TotalN']).to_csv(olffile)\n",
        "        \n",
        "        else:\n",
        "            cf = open(olffile, 'w')\n",
        "            json.dump(descriptors, cf)\n",
        "            cf.close()\n",
        "\n",
        "       \n",
        "    #########\n",
        "    # Loop over identified descriptors and count total frequencies within each file.\n",
        "    #########\n",
        "    \n",
        "    print('\\n********************************************************************************************************')\n",
        "    print('Starting to count total descriptor frequencies from the UMBC corpus, this will also take time.\\n')\n",
        "    \n",
        "    freqcountstarttime = time.time()\n",
        "    \n",
        "    # Loop over files\n",
        "    for idx, cFile in enumerate(cFiles): \n",
        "        \n",
        "        if verbose:\n",
        "            print('\\nWorking file: ' + cFile + ' (nr ' + str(idx + 1) +')....')\n",
        "            print('-------------------------------------')\n",
        "                \n",
        "        # Get file start time\n",
        "        filestarttime = time.time()\n",
        "            \n",
        "        # load current sentences from file    \n",
        "        cf = open(os.path.join(corpusdir, cFile), 'r')\n",
        "        cSentences = json.load(cf)\n",
        "        cf.close()\n",
        "        \n",
        "        if verbose:\n",
        "            print('Searching for descriptors in current file...')\n",
        "            \n",
        "        # Loop over descriptors\n",
        "        for cDisc in list(descriptors.keys()):\n",
        "            \n",
        "            # Loop over sentences\n",
        "            for cs in cSentences:\n",
        "                \n",
        "                cHits = []\n",
        "                # Check for occurrences of current descriptor in current sentence\n",
        "                # if POSes are merged in descriptors, search through all tokens\n",
        "                if mergePOS:\n",
        "                    for cdt in descriptors[cDisc][2]: \n",
        "                        cHit = [x for x in cs if x == cdt]\n",
        "                        if cHit:\n",
        "                            if cHits:\n",
        "                                cHits.append(cHit)\n",
        "                            else:\n",
        "                                cHits = cHit\n",
        "\n",
        "                else:\n",
        "                    cHits = [x for x in cs if x == cDisc]\n",
        "                \n",
        "                # If current descriptor is in current sentence, increment by no of instances\n",
        "                if cHits:\n",
        "                    descriptors[cDisc][1] += len(cHits)\n",
        "        \n",
        "        if verbose:            \n",
        "            print('\\n' + cFile + ' is done! It took ' + str(time.time() - filestarttime) + ' seconds to work ' + str(len(cSentences)) + ' items.') \n",
        "         \n",
        "    # File is done, report\n",
        "    print('\\n\\n*************************************************************************')\n",
        "    print('Descriptor frequency count is done!')\n",
        "    print('It took ' + str(time.time() - freqcountstarttime) + ' seconds to work ' + str(len(descriptors.keys())) + ' descriptors.')\n",
        "    \n",
        "    print('\\nCalculating OAI and OSI for each term...')\n",
        "    \n",
        "    # Get total context frequencies\n",
        "    tf = sum([descriptors[d][0] for d in descriptors.keys()])\n",
        "    \n",
        "    # Calculate OAI and OSI for each term\n",
        "    for d in descriptors.keys():\n",
        "       \n",
        "        # Append OAI \n",
        "        descriptors[d].append(numpy.log2(descriptors[d][0] / descriptors[d][1]))\n",
        "        \n",
        "        # Append OSI\n",
        "        descriptors[d].append(-numpy.log2(descriptors[d][0] / tf))\n",
        "     \n",
        "    print('\\nSaving descriptor data....')\n",
        "\n",
        "    if asDataFrame: \n",
        "        if mergePOS:\n",
        "                descriptors = pandas.DataFrame.from_dict(descriptors, orient='index', columns=['OlfN', 'TotalN', 'Tokens', 'OAI', 'OSI'])\n",
        "        else:\n",
        "                descriptors = pandas.DataFrame.from_dict(descriptors, orient='index', columns=['OlfN', 'TotalN', 'OAI', 'OSI'])\n",
        "        \n",
        "        descriptors.to_csv(descfile)\n",
        "        \n",
        "    else:\n",
        "        cf = open(descfile, 'w')\n",
        "        json.dump(descriptors, cf)\n",
        "        cf.close()\n",
        "    \n",
        "    print('\\n\\n*****************************************************************')\n",
        "    print('All done!')\n",
        "    print('Total processing time: ' + str(time.time() - totalstarttime) + '\\n\\n')\n",
        "    return(descriptors)    "
      ],
      "execution_count": null,
      "outputs": []
    },
    {
      "cell_type": "code",
      "metadata": {
        "colab": {
          "base_uri": "https://localhost:8080/",
          "height": 54
        },
        "id": "boEe61ABCsQ_",
        "outputId": "cbe74b74-4d9d-4831-f3d1-29d1e192719a"
      },
      "source": [
        "OlfWords = ['^feel_.*$', '^feeling_.*$', '^feelings_.*$', '^feels_.*$', '^felt_.*$']\n",
        "POStags = ['COLL']\n",
        "NounTags = ['NN', 'NNS', 'NNP', 'NNPS']\n",
        "AdjTags = ['JJ', 'JJR', 'JJS']\n",
        "VerbTags = ['MD', 'VB', 'VBD', 'VBG', 'VBN', 'VBP', 'VBZ']\n",
        "AdvTags = ['RB', 'RBR', 'RBS']\n",
        "\n",
        "POStags = POStags + NounTags + AdjTags + VerbTags + AdvTags\n",
        "print(POStags)"
      ],
      "execution_count": null,
      "outputs": [
        {
          "output_type": "stream",
          "text": [
            "['COLL', 'NN', 'NNS', 'NNP', 'NNPS', 'JJ', 'JJR', 'JJS', 'MD', 'VB', 'VBD', 'VBG', 'VBN', 'VBP', 'VBZ', 'RB', 'RBR', 'RBS']\n"
          ],
          "name": "stdout"
        }
      ]
    },
    {
      "cell_type": "code",
      "metadata": {
        "colab": {
          "base_uri": "https://localhost:8080/",
          "height": 777
        },
        "id": "8n_q0bUwA7a9",
        "outputId": "66a36daa-2ff8-497b-ec73-5e0e73ac6408"
      },
      "source": [
        "descriptors = get_descriptors(corpusdir, OlfWords = OlfWords, distance = 4, ctxtdir = contextdir, POStags=POStags,\n",
        "                              ctxtoutdir = contextdir, save_contexts = False,\n",
        "                              asDataFrame = True, mergePOS = False, min_Ns = 10, verbose = True, olfFrequenciesOnly = False)"
      ],
      "execution_count": null,
      "outputs": [
        {
          "output_type": "stream",
          "text": [
            "\n",
            "\n",
            "*********************************************************************************************\n",
            "Starting to extract olfactory descriptors from the UMBC corpus, this will take some time.\n",
            "\n",
            "\n",
            "Working file: UMBC_lines_1.json (nr 1)....\n",
            "Done! It took 5.841550588607788 seconds to work 3681 items.\n",
            "\n",
            "---------------------------------------------------------------------\n",
            "Descriptor term extraction is done!\n",
            "It took 5.84173059463501 seconds to work 1 files.\n",
            "\n",
            "Removing descriptors with less than 10 tokens in olfactory contexts...\n",
            "Nr of descriptors identified: 220\n",
            "\n",
            "Saving olfactory items before counting total frequencies as requested...\n",
            "\n",
            "\n",
            "********************************************************************************************************\n",
            "Starting to count total descriptor frequencies from the UMBC corpus, this will also take time.\n",
            "\n",
            "\n",
            "Working file: UMBC_lines_1.json (nr 1)....\n",
            "-------------------------------------\n",
            "Searching for descriptors in current file...\n",
            "\n",
            "UMBC_lines_1.json is done! It took 79.51249027252197 seconds to work 348382 items.\n",
            "\n",
            "\n",
            "*************************************************************************\n",
            "Descriptor frequency count is done!\n",
            "It took 79.51328730583191 seconds to work 220 descriptors.\n",
            "\n",
            "Calculating OAI and OSI for each term...\n",
            "\n",
            "Saving descriptor data....\n",
            "\n",
            "\n",
            "*****************************************************************\n",
            "All done!\n",
            "Total processing time: 85.37936115264893\n",
            "\n",
            "\n"
          ],
          "name": "stdout"
        }
      ]
    },
    {
      "cell_type": "markdown",
      "metadata": {
        "id": "0w-jnFQN-2zj"
      },
      "source": [
        "#Calculate OAI from csv"
      ]
    },
    {
      "cell_type": "code",
      "metadata": {
        "colab": {
          "base_uri": "https://localhost:8080/",
          "height": 402
        },
        "id": "tPukkYaI_BHc",
        "outputId": "39bc739f-54ee-4153-c973-1ec3a6c8dfa0"
      },
      "source": [
        "df = pandas.read_csv(\"/content/drive/My Drive/DescriptorFile_OlfactoryFrequencies.csv\")\n",
        "df"
      ],
      "execution_count": null,
      "outputs": [
        {
          "output_type": "execute_result",
          "data": {
            "text/html": [
              "<div>\n",
              "<style scoped>\n",
              "    .dataframe tbody tr th:only-of-type {\n",
              "        vertical-align: middle;\n",
              "    }\n",
              "\n",
              "    .dataframe tbody tr th {\n",
              "        vertical-align: top;\n",
              "    }\n",
              "\n",
              "    .dataframe thead th {\n",
              "        text-align: right;\n",
              "    }\n",
              "</style>\n",
              "<table border=\"1\" class=\"dataframe\">\n",
              "  <thead>\n",
              "    <tr style=\"text-align: right;\">\n",
              "      <th></th>\n",
              "      <th>Unnamed: 0</th>\n",
              "      <th>OlfN</th>\n",
              "      <th>TotalN</th>\n",
              "      <th>Tokens</th>\n",
              "    </tr>\n",
              "  </thead>\n",
              "  <tbody>\n",
              "    <tr>\n",
              "      <th>0</th>\n",
              "      <td>way_NN</td>\n",
              "      <td>118</td>\n",
              "      <td>0</td>\n",
              "      <td>['way_NN', 'way_NNS']</td>\n",
              "    </tr>\n",
              "    <tr>\n",
              "      <th>1</th>\n",
              "      <td>state_NN</td>\n",
              "      <td>27</td>\n",
              "      <td>0</td>\n",
              "      <td>['state_NN', 'state_NNP', 'state_NNPS', 'state...</td>\n",
              "    </tr>\n",
              "    <tr>\n",
              "      <th>2</th>\n",
              "      <td>sure_JJ</td>\n",
              "      <td>16</td>\n",
              "      <td>0</td>\n",
              "      <td>['sure_JJ']</td>\n",
              "    </tr>\n",
              "    <tr>\n",
              "      <th>3</th>\n",
              "      <td>be_VB</td>\n",
              "      <td>914</td>\n",
              "      <td>0</td>\n",
              "      <td>['be_VBD', 'be_VBP', 'be_VBZ', 'be_VB', 'be_VB...</td>\n",
              "    </tr>\n",
              "    <tr>\n",
              "      <th>4</th>\n",
              "      <td>really_RB</td>\n",
              "      <td>39</td>\n",
              "      <td>0</td>\n",
              "      <td>['really_RB']</td>\n",
              "    </tr>\n",
              "    <tr>\n",
              "      <th>...</th>\n",
              "      <td>...</td>\n",
              "      <td>...</td>\n",
              "      <td>...</td>\n",
              "      <td>...</td>\n",
              "    </tr>\n",
              "    <tr>\n",
              "      <th>244</th>\n",
              "      <td>however_RB</td>\n",
              "      <td>11</td>\n",
              "      <td>0</td>\n",
              "      <td>['however_RB']</td>\n",
              "    </tr>\n",
              "    <tr>\n",
              "      <th>245</th>\n",
              "      <td>laughter_NN</td>\n",
              "      <td>10</td>\n",
              "      <td>0</td>\n",
              "      <td>['laughter_NN']</td>\n",
              "    </tr>\n",
              "    <tr>\n",
              "      <th>246</th>\n",
              "      <td>fact_NN</td>\n",
              "      <td>10</td>\n",
              "      <td>0</td>\n",
              "      <td>['fact_NN']</td>\n",
              "    </tr>\n",
              "    <tr>\n",
              "      <th>247</th>\n",
              "      <td>happy_JJ</td>\n",
              "      <td>10</td>\n",
              "      <td>0</td>\n",
              "      <td>['happy_JJ', 'happy_JJR']</td>\n",
              "    </tr>\n",
              "    <tr>\n",
              "      <th>248</th>\n",
              "      <td>look_NN</td>\n",
              "      <td>12</td>\n",
              "      <td>0</td>\n",
              "      <td>['look_NN']</td>\n",
              "    </tr>\n",
              "  </tbody>\n",
              "</table>\n",
              "<p>249 rows × 4 columns</p>\n",
              "</div>"
            ],
            "text/plain": [
              "      Unnamed: 0  ...                                             Tokens\n",
              "0         way_NN  ...                              ['way_NN', 'way_NNS']\n",
              "1       state_NN  ...  ['state_NN', 'state_NNP', 'state_NNPS', 'state...\n",
              "2        sure_JJ  ...                                        ['sure_JJ']\n",
              "3          be_VB  ...  ['be_VBD', 'be_VBP', 'be_VBZ', 'be_VB', 'be_VB...\n",
              "4      really_RB  ...                                      ['really_RB']\n",
              "..           ...  ...                                                ...\n",
              "244   however_RB  ...                                     ['however_RB']\n",
              "245  laughter_NN  ...                                    ['laughter_NN']\n",
              "246      fact_NN  ...                                        ['fact_NN']\n",
              "247     happy_JJ  ...                          ['happy_JJ', 'happy_JJR']\n",
              "248      look_NN  ...                                        ['look_NN']\n",
              "\n",
              "[249 rows x 4 columns]"
            ]
          },
          "metadata": {
            "tags": []
          },
          "execution_count": 17
        }
      ]
    },
    {
      "cell_type": "code",
      "metadata": {
        "id": "qGAHGV1E8PG1"
      },
      "source": [
        "corpusdir =  '/content/drive/My Drive/umbc/'\n",
        "contextdir = '/content/drive/My Drive/umbc_context/'"
      ],
      "execution_count": null,
      "outputs": []
    },
    {
      "cell_type": "code",
      "metadata": {
        "id": "LWxQMskY_WcG"
      },
      "source": [
        "import ast"
      ],
      "execution_count": null,
      "outputs": []
    },
    {
      "cell_type": "code",
      "metadata": {
        "id": "0Grb1nX4_Y8Q"
      },
      "source": [
        "dictionary = {}\n",
        "\n",
        "for r, row in df.iterrows():\n",
        "  tokens = ast.literal_eval(row[\"Tokens\"])\n",
        "  key = row[\"Unnamed: 0\"]\n",
        "  values = [row[\"OlfN\"], row[\"TotalN\"], tokens]\n",
        "  dictionary[key] = values"
      ],
      "execution_count": null,
      "outputs": []
    },
    {
      "cell_type": "code",
      "metadata": {
        "colab": {
          "base_uri": "https://localhost:8080/",
          "height": 54
        },
        "id": "66i_EJRT_c2K",
        "outputId": "99c1b3ed-f1f5-4c89-817b-491203370d6d"
      },
      "source": [
        "print(dictionary)"
      ],
      "execution_count": null,
      "outputs": [
        {
          "output_type": "stream",
          "text": [
            "{'way_NN': [118, 0, ['way_NN', 'way_NNS']], 'state_NN': [27, 0, ['state_NN', 'state_NNP', 'state_NNPS', 'state_NNS']], 'sure_JJ': [16, 0, ['sure_JJ']], 'be_VB': [914, 0, ['be_VBD', 'be_VBP', 'be_VBZ', 'be_VB', 'be_VBG', 'be_VBN']], 'really_RB': [39, 0, ['really_RB']], 'go_VB': [56, 0, ['go_VBG', 'go_VB', 'go_VBD', 'go_VBP', 'go_VBN']], 'have_VB': [494, 0, ['have_VBP', 'have_VBZ', 'have_VBD', 'have_VB', 'have_VBN', 'have_VBG']], 'nation_NN': [12, 0, ['nation_NNS', 'nation_NN']], 'team_NN': [17, 0, ['team_NN', 'team_NNS', 'team_NNP']], 'learn_VB': [12, 0, ['learn_VB', 'learn_VBD', 'learn_VBP', 'learn_VBG', 'learn_VBN']], 'people_NN': [110, 0, ['people_NNS']], 'so_RB': [129, 0, ['so_RB']], 'many_JJ': [51, 0, ['many_JJ']], 'american_NN': [41, 0, ['american_NNPS', 'american_NNP', 'american_NNS']], 'loss_NN': [16, 0, ['loss_NN', 'loss_NNS']], 'there_RB': [13, 0, ['there_RB']], 'here_RB': [38, 0, ['here_RB']], 'deep_JJ': [22, 0, ['deep_JJ', 'deep_JJR', 'deep_JJS']], 'can_MD': [143, 0, ['can_MD']], 'new_JJ': [21, 0, ['new_JJ', 'new_JJR', 'new_JJS']], 'then_RB': [32, 0, ['then_RB']], 'must_MD': [39, 0, ['must_MD']], 'time_NN': [63, 0, ['time_NN', 'time_NNS']], 'now_RB': [47, 0, ['now_RB']], 'maybe_RB': [11, 0, ['maybe_RB']], \"'ll_MD\": [25, 0, [\"'ll_MD\"]], 'life_NN': [29, 0, ['life_NN', 'life_NNS']], 'not_RB': [108, 0, ['not_RB']], 'only_RB': [17, 0, ['only_RB']], 'weight_NN': [12, 0, ['weight_NN']], 'action_NN': [11, 0, ['action_NNS', 'action_NN']], 'also_RB': [37, 0, ['also_RB']], 'do_VB': [322, 0, ['do_VBP', 'do_VBD', 'do_VBZ', 'do_VBG', 'do_VB', 'do_VBN']], 'president_NN': [29, 0, ['president_NNP']], 'say_VB': [62, 0, ['say_VBD', 'say_VB', 'say_VBP', 'say_VBG', 'say_VBZ', 'say_VBN']], \"'ve_VB\": [77, 0, [\"'ve_VBP\"]], 'need_VB': [29, 0, ['need_VBP', 'need_VBD', 'need_VBZ', 'need_VB', 'need_VBN']], 'give_VB': [23, 0, ['give_VB', 'give_VBG', 'give_VBD', 'give_VBZ', 'give_VBN']], \"n't_RB\": [134, 0, [\"n't_RB\"]], 'live_VB': [13, 0, ['live_VBG', 'live_VB', 'live_VBD', 'live_VBN']], 'sufferer_NN': [12, 0, ['sufferer_NN', 'sufferer_NNS']], 'strongly_RB': [68, 0, ['strongly_RB']], 'get_VB': [64, 0, ['get_VBG', 'get_VBN', 'get_VBP', 'get_VB', 'get_VBD', 'get_VBZ']], 'understand_VB': [13, 0, ['understand_VB', 'understand_VBZ', 'understand_VBP']], 'threaten_VB': [15, 0, ['threaten_VBN', 'threaten_VBG']], 'country_NN': [34, 0, ['country_NNS', 'country_NN']], 'others_NN': [21, 0, ['others_NNS']], 'issue_NN': [27, 0, ['issue_NN', 'issue_NNS']], 'right_RB': [15, 0, ['right_RB']], 'tax_NN': [12, 0, ['tax_NN', 'tax_NNS']], 'program_NN': [20, 0, ['program_NN', 'program_NNS', 'program_NNP']], \"'s_VB\": [78, 0, [\"'s_VBZ\"]], 'use_VB': [13, 0, ['use_VBG', 'use_VB', 'use_VBZ', 'use_VBD', 'use_VBN', 'use_VBP']], 'emotion_NN': [16, 0, ['emotion_NNS', 'emotion_NN']], 'deal_VB': [10, 0, ['deal_VB', 'deal_VBN', 'deal_VBG']], 'pressure_NN': [11, 0, ['pressure_NN', 'pressure_NNS']], \"'re_VB\": [54, 0, [\"'re_VBP\"]], 'should_MD': [66, 0, ['should_MD']], 'tell_VB': [29, 0, ['tell_VBP', 'tell_VBZ', 'tell_VB', 'tell_VBD', 'tell_VBN', 'tell_VBG']], 'may_MD': [59, 0, ['may_MD']], 'would_MD': [89, 0, ['would_MD']], 'person_NN': [27, 0, ['person_NN']], 'love_NN': [14, 0, ['love_NN']], 'bad_JJ': [19, 0, ['bad_JJ', 'bad_JJR']], 'thing_NN': [37, 0, ['thing_NNS', 'thing_NN']], 'one_NN': [17, 0, ['one_NN', 'one_NNS']], 'might_MD': [25, 0, ['might_MD']], 'more_JJ': [33, 0, ['more_JJR']], 'sick_JJ': [11, 0, ['sick_JJ']], 'ask_VB': [16, 0, ['ask_VBD', 'ask_VB', 'ask_VBN', 'ask_VBG']], 'very_RB': [93, 0, ['very_RB']], 'always_RB': [49, 0, ['always_RB']], 'come_VB': [26, 0, ['come_VBD', 'come_VBG', 'come_VBP', 'come_VB', 'come_VBZ', 'come_VBN']], 'best_JJ': [13, 0, ['best_JJS']], 'confident_JJ': [19, 0, ['confident_JJ']], 'comfortable_JJ': [50, 0, ['comfortable_JJ']], 'low_JJ': [11, 0, ['low_JJ', 'low_JJS', 'low_JJR']], 'full_JJ': [18, 0, ['full_JJ']], 'just_RB': [88, 0, ['just_RB']], \"'m_VB\": [48, 0, [\"'m_VBP\"]], 'control_NN': [31, 0, ['control_NN']], 'world_NN': [18, 0, ['world_NN', 'world_NNP', 'world_NNS']], 'free_JJ': [73, 0, ['free_JJ', 'free_JJR']], 'much_JJ': [12, 0, ['much_JJ']], 'ca_MD': [14, 0, ['ca_MD']], 'hope_NN': [14, 0, ['hope_NN', 'hope_NNS']], 'make_VB': [191, 0, ['make_VBG', 'make_VB', 'make_VBZ', 'make_VBD', 'make_VBP', 'make_VBN']], 'presence_NN': [16, 0, ['presence_NN']], 'child_NN': [14, 0, ['child_NN', 'child_NNS']], 'love_VB': [10, 0, ['love_VBN', 'love_VBP', 'love_VBD', 'love_VBZ', 'love_VB']], 'sometimes_RB': [29, 0, ['sometimes_RB']], 'good_JJ': [127, 0, ['good_JJ', 'good_JJR']], 'let_VB': [16, 0, ['let_VB', 'let_VBG']], 'small_JJ': [10, 0, ['small_JJ', 'small_JJR']], 'same_JJ': [51, 0, ['same_JJ']], 'something_NN': [36, 0, ['something_NN']], 'about_RB': [20, 0, ['about_RB']], 'guilt_NN': [16, 0, ['guilt_NN']], 'well_RB': [65, 0, ['well_RB', 'well_RBR']], 'already_RB': [13, 0, ['already_RB']], 'lonely_JJ': [14, 0, ['lonely_JJ']], 'little_JJ': [33, 0, ['little_JJ']], 'personal_JJ': [11, 0, ['personal_JJ']], 'problem_NN': [17, 0, ['problem_NNS', 'problem_NN']], 'congress_NN': [13, 0, ['congress_NNP']], 'know_VB': [120, 0, ['know_VB', 'know_VBG', 'know_VBP', 'know_VBZ', 'know_VBN', 'know_VBD']], 'too_RB': [33, 0, ['too_RB']], 'kind_NN': [14, 0, ['kind_NN', 'kind_NNS']], 'year_NN': [28, 0, ['year_NN', 'year_NNS']], 'pain_NN': [25, 0, ['pain_NN']], 'even_RB': [31, 0, ['even_RB']], 'strong_JJ': [28, 0, ['strong_JJ', 'strong_JJR']], 'first_JJ': [18, 0, ['first_JJ']], 'other_JJ': [45, 0, ['other_JJ']], 'great_JJ': [58, 0, ['great_JJ', 'great_JJS', 'great_JJR']], 'begin_VB': [26, 0, ['begin_VBN', 'begin_VBP', 'begin_VBG', 'begin_VBD', 'begin_VB']], \"'d_MD\": [17, 0, [\"'d_MD\"]], 'important_JJ': [27, 0, ['important_JJ']], 'own_JJ': [40, 0, ['own_JJ']], 'need_NN': [24, 0, ['need_NN', 'need_NNS']], 'confidence_NN': [10, 0, ['confidence_NN']], 'still_RB': [45, 0, ['still_RB']], 'more_RB': [46, 0, ['more_RBR']], 'take_VB': [15, 0, ['take_VB', 'take_VBN', 'take_VBD', 'take_VBG', 'take_VBP']], 'think_VB': [60, 0, ['think_VBP', 'think_VB', 'think_VBD', 'think_VBG', 'think_VBZ']], 'home_NN': [42, 0, ['home_NN', 'home_NNS']], 'long_RB': [11, 0, ['long_RB']], 'proud_JJ': [18, 0, ['proud_JJ']], 'add_VB': [13, 0, ['add_VB', 'add_VBZ', 'add_VBD', 'add_VBG', 'add_VBN']], 'find_VB': [10, 0, ['find_VB', 'find_VBP', 'find_VBN']], 'government_NN': [22, 0, ['government_NN', 'government_NNS', 'government_NNP']], 'spirit_NN': [10, 0, ['spirit_NN', 'spirit_NNS']], 'deeply_RB': [23, 0, ['deeply_RB']], 'like_VB': [16, 0, ['like_VBP', 'like_VB', 'like_VBN']], 'someone_NN': [12, 0, ['someone_NN']], 'will_MD': [88, 0, ['will_MD']], 'place_NN': [11, 0, ['place_NN', 'place_NNS']], 'help_VB': [46, 0, ['help_VB', 'help_VBZ', 'help_VBG', 'help_VBN', 'help_VBP', 'help_VBD']], 'honor_VB': [16, 0, ['honor_VBN', 'honor_VBD', 'honor_VB']], 'almost_RB': [13, 0, ['almost_RB']], 'sorry_JJ': [16, 0, ['sorry_JJ']], 'day_NN': [23, 0, ['day_NNS', 'day_NN']], 'could_MD': [53, 0, ['could_MD']], 'call_VB': [16, 0, ['call_VBD', 'call_VB', 'call_VBN', 'call_VBG']], 'therefore_RB': [10, 0, ['therefore_RB']], 'few_JJ': [11, 0, ['few_JJR', 'few_JJ']], 'often_RB': [30, 0, ['often_RB']], 'keep_VB': [10, 0, ['keep_VB', 'keep_VBD', 'keep_VBZ', 'keep_VBN', 'keep_VBG']], 'today_NN': [28, 0, ['today_NN']], 'young_JJ': [11, 0, ['young_JJ', 'young_JJR']], 'believe_VB': [12, 0, ['believe_VBP', 'believe_VBN', 'believe_VBZ', 'believe_VB', 'believe_VBD']], 'look_VB': [20, 0, ['look_VBZ', 'look_VBP', 'look_VB', 'look_VBD', 'look_VBG']], 'last_JJ': [14, 0, ['last_JJ']], 'change_NN': [11, 0, ['change_NNS', 'change_NN']], 'light_NN': [15, 0, ['light_NN']], 'high_JJ': [11, 0, ['high_JJ', 'high_JJR']], 'leave_VB': [21, 0, ['leave_VB', 'leave_VBN', 'leave_VBG', 'leave_VBD', 'leave_VBP']], 'see_VB': [26, 0, ['see_VBN', 'see_VB', 'see_VBG', 'see_VBP']], 'pride_NN': [24, 0, ['pride_NN']], 'american_JJ': [26, 0, ['american_JJ']], 'start_VB': [13, 0, ['start_VBD', 'start_VBP', 'start_VB', 'start_VBG']], 'express_VB': [39, 0, ['express_VBG', 'express_VB', 'express_VBN', 'express_VBZ', 'express_VBD', 'express_VBP']], 'security_NN': [12, 0, ['security_NNP', 'security_NN']], 'experience_NN': [14, 0, ['experience_NNS', 'experience_NN']], 'as_RB': [25, 0, ['as_RB']], 'long_JJ': [16, 0, ['long_JJ', 'long_JJR']], 'friend_NN': [11, 0, ['friend_NNS', 'friend_NN']], 'such_JJ': [12, 0, ['such_JJ']], 'especially_RB': [12, 0, ['especially_RB']], 'energy_NN': [10, 0, ['energy_NN', 'energy_NNP']], 'member_NN': [13, 0, ['member_NNS']], 'much_RB': [24, 0, ['much_RB']], 'secure_JJ': [12, 0, ['secure_JJ']], 'share_VB': [20, 0, ['share_VBP', 'share_VBG', 'share_VB', 'share_VBN', 'share_VBZ']], 'washington_NN': [10, 0, ['washington_NNP']], 'anything_NN': [11, 0, ['anything_NN']], 'helpless_JJ': [11, 0, ['helpless_JJ']], 'matter_NN': [11, 0, ['matter_NNS', 'matter_NN']], 'future_NN': [10, 0, ['future_NN']], 'less_JJ': [10, 0, ['less_JJR']], 'again_RB': [24, 0, ['again_RB']], 'welcome_JJ': [18, 0, ['welcome_JJ']], 'responsibility_NN': [15, 0, ['responsibility_NN', 'responsibility_NNS']], 'most_RB': [19, 0, ['most_RBS']], 'enough_JJ': [12, 0, ['enough_JJ']], 'remember_VB': [10, 0, ['remember_VBP', 'remember_VB', 'remember_VBZ']], 'happen_VB': [12, 0, ['happen_VB', 'happen_VBG', 'happen_VBN', 'happen_VBZ', 'happen_VBP']], 'eat_VB': [18, 0, ['eat_VB', 'eat_VBG', 'eat_VBP', 'eat_VBD']], 'lead_VB': [10, 0, ['lead_VB', 'lead_VBD', 'lead_VBZ', 'lead_VBN']], 'friendship_NN': [15, 0, ['friendship_NN']], 'america_NN': [20, 0, ['america_NNP', 'america_NNPS']], 'reason_NN': [10, 0, ['reason_NN', 'reason_NNS']], 'real_JJ': [12, 0, ['real_JJ']], 'heart_NN': [10, 0, ['heart_NN', 'heart_NNS']], 'safe_JJ': [20, 0, ['safe_JJ', 'safe_JJR']], 'ever_RB': [10, 0, ['ever_RB']], 'food_NN': [20, 0, ['food_NN', 'food_NNS', 'food_NNP']], 'special_JJ': [28, 0, ['special_JJ']], 'sense_NN': [26, 0, ['sense_NN']], 'sad_JJ': [10, 0, ['sad_JJ']], 'angry_JJ': [12, 0, ['angry_JJ']], 'guilty_JJ': [19, 0, ['guilty_JJ']], 'student_NN': [32, 0, ['student_NNS', 'student_NN']], 'talk_VB': [17, 0, ['talk_VBG', 'talk_VBD', 'talk_VB']], 'warm_JJ': [17, 0, ['warm_JJ', 'warm_JJR', 'warm_JJS']], 'fat_JJ': [15, 0, ['fat_JJ', 'fat_JJR']], 'thought_NN': [20, 0, ['thought_NNS', 'thought_NN']], 'alone_RB': [18, 0, ['alone_RB']], 'depressed_JJ': [14, 0, ['depressed_JJ']], 'relationship_NN': [10, 0, ['relationship_NNS', 'relationship_NN']], 'stop_VB': [11, 0, ['stop_VBG', 'stop_VB', 'stop_VBP']], 'concern_NN': [10, 0, ['concern_NNS', 'concern_NN']], 'family_NN': [18, 0, ['family_NN', 'family_NNS']], 'lose_VB': [15, 0, ['lose_VBN', 'lose_VBD', 'lose_VB', 'lose_VBG']], 'bring_VB': [13, 0, ['bring_VB', 'bring_VBD', 'bring_VBN', 'bring_VBZ']], 'wonder_VB': [14, 0, ['wonder_VBP', 'wonder_VBG', 'wonder_VBN']], 'behavior_NN': [13, 0, ['behavior_NNS', 'behavior_NN']], 'close_JJ': [10, 0, ['close_JJ', 'close_JJR']], 'heat_NN': [22, 0, ['heat_NN']], 'desire_NN': [13, 0, ['desire_NN']], 'never_RB': [47, 0, ['never_RB']], 'bit_NN': [15, 0, ['bit_NN']], 'united_NN': [13, 0, ['united_NNP']], 'old_JJ': [11, 0, ['old_JJ', 'old_JJR']], 'please_VB': [26, 0, ['please_VB', 'please_VBP', 'please_VBG']], 'everyone_NN': [15, 0, ['everyone_NN']], 'contact_VB': [13, 0, ['contact_VB']], 'school_NN': [10, 0, ['school_NN', 'school_NNS', 'school_NNP']], 'warmth_NN': [13, 0, ['warmth_NN']], 'quite_RB': [10, 0, ['quite_RB']], 'fear_NN': [14, 0, ['fear_NN', 'fear_NNS']], 'hear_VB': [14, 0, ['hear_VB', 'hear_VBN', 'hear_VBP', 'hear_VBG', 'hear_VBZ', 'hear_VBD']], 'effect_NN': [16, 0, ['effect_NNS', 'effect_NN']], 'part_NN': [20, 0, ['part_NN', 'part_NNS']], 'group_NN': [12, 0, ['group_NN', 'group_NNS']], 'only_JJ': [11, 0, ['only_JJ']], 'necessary_JJ': [16, 0, ['necessary_JJ']], 'actually_RB': [12, 0, ['actually_RB']], 'want_VB': [35, 0, ['want_VBZ', 'want_VB', 'want_VBP', 'want_VBD', 'want_VBG']], 'away_RB': [10, 0, ['away_RB']], 'work_VB': [12, 0, ['work_VBZ', 'work_VBP', 'work_VB', 'work_VBG']], 'certain_JJ': [10, 0, ['certain_JJ']], 'put_VB': [10, 0, ['put_VBN', 'put_VBZ', 'put_VBG', 'put_VBP', 'put_VB', 'put_VBD']], 'body_NN': [10, 0, ['body_NN', 'body_NNS']], 'however_RB': [11, 0, ['however_RB']], 'laughter_NN': [10, 0, ['laughter_NN']], 'fact_NN': [10, 0, ['fact_NN']], 'happy_JJ': [10, 0, ['happy_JJ', 'happy_JJR']], 'look_NN': [12, 0, ['look_NN']]}\n"
          ],
          "name": "stdout"
        }
      ]
    },
    {
      "cell_type": "code",
      "metadata": {
        "id": "QpRXHVTg_gWU"
      },
      "source": [
        "########\n",
        "#\n",
        "# Extracts olfactory descriptors from UMBC corpus\n",
        "#\n",
        "########\n",
        "    \n",
        "def calculate_scores(corpusdir, dictionary, descfile = 'DescriptorFile.csv', \n",
        "                    ctxtdir = [], OlfWords = [], POStags = ['NN', 'NNS', 'NNP', 'NNPS', 'JJ', 'JJR', 'JJS', 'COLL'], \n",
        "                    ctxtoutdir = 'UMBC Corpus/', save_contexts = False, verbose=False, asDataFrame=True, mergePOS=True):\n",
        "   \n",
        "    ######\n",
        "    # Setup\n",
        "    ######\n",
        "    \n",
        "    # Get start time\n",
        "    totalstarttime = time.time() \n",
        "    \n",
        "    # If no context directory is provided, assume that context files are located in same folder\n",
        "    if not ctxtdir:\n",
        "        ctxtdir = corpusdir\n",
        "    \n",
        "    # Get file names\n",
        "    cFiles = [cfile for cfile in os.listdir(corpusdir) if (re.search(r'UMBC_lines.*.$', cfile))]\n",
        "    oFiles = [cfile for cfile in os.listdir(ctxtdir) if (re.search(r'UMBC_olfIDs.*.$', cfile))]\n",
        "    fileIDs = [re.search(r'_(\\d+)\\.', i).group(1) for i in cFiles]\n",
        "    \n",
        "    # Fix POS search string\n",
        "    possearch = \"(\" + \"|\".join(POStags) + \")\"\n",
        "    \n",
        "    # setup target dictionary\n",
        "    descriptors = dictionary\n",
        "    \n",
        "    #########\n",
        "    # Loop over identified descriptors and count total frequencies within each file.\n",
        "    #########\n",
        "    \n",
        "    print('\\n********************************************************************************************************')\n",
        "    print('Starting to count total descriptor frequencies from the UMBC corpus, this will also take time.\\n')\n",
        "    \n",
        "    freqcountstarttime = time.time()\n",
        "    \n",
        "    # Loop over files\n",
        "    for idx, cFile in enumerate(cFiles): \n",
        "        \n",
        "        if verbose:\n",
        "            print('\\nWorking file: ' + cFile + ' (nr ' + str(idx + 1) +')....')\n",
        "            print('-------------------------------------')\n",
        "                \n",
        "        # Get file start time\n",
        "        filestarttime = time.time()\n",
        "            \n",
        "        # load current sentences from file    \n",
        "        cf = open(os.path.join(corpusdir, cFile), 'r')\n",
        "        cSentences = json.load(cf)\n",
        "        cf.close()\n",
        "        \n",
        "        if verbose:\n",
        "            print('Searching for descriptors in current file...')\n",
        "            \n",
        "        # Loop over descriptors\n",
        "        for cDisc in list(descriptors.keys()):\n",
        "            \n",
        "            # Loop over sentences\n",
        "            for cs in cSentences:\n",
        "                \n",
        "                cHits = []\n",
        "                # Check for occurrences of current descriptor in current sentence\n",
        "                # if POSes are merged in descriptors, search through all tokens\n",
        "                if mergePOS:\n",
        "                    for cdt in descriptors[cDisc][2]: \n",
        "                        cHit = [x for x in cs if x == cdt]\n",
        "                        if cHit:\n",
        "                            if cHits:\n",
        "                                cHits.append(cHit)\n",
        "                            else:\n",
        "                                cHits = cHit\n",
        "\n",
        "                else:\n",
        "                    cHits = [x for x in cs if x == cDisc]\n",
        "                \n",
        "                # If current descriptor is in current sentence, increment by no of instances\n",
        "                if cHits:\n",
        "                    descriptors[cDisc][1] += len(cHits)\n",
        "        \n",
        "        if verbose:            \n",
        "            print('\\n' + cFile + ' is done! It took ' + str(time.time() - filestarttime) + ' seconds to work ' + str(len(cSentences)) + ' items.') \n",
        "         \n",
        "    # File is done, report\n",
        "    print('\\n\\n*************************************************************************')\n",
        "    print('Descriptor frequency count is done!')\n",
        "    print('It took ' + str(time.time() - freqcountstarttime) + ' seconds to work ' + str(len(descriptors.keys())) + ' descriptors.')\n",
        "    \n",
        "    print('\\nCalculating OAI and OSI for each term...')\n",
        "    \n",
        "    # Get total context frequencies\n",
        "    tf = sum([descriptors[d][0] for d in descriptors.keys()])\n",
        "    \n",
        "    # Calculate OAI and OSI for each term\n",
        "    for d in descriptors.keys():\n",
        "       \n",
        "        # Append OAI \n",
        "        descriptors[d].append(numpy.log2(descriptors[d][0] / descriptors[d][1]))\n",
        "        \n",
        "        # Append OSI\n",
        "        descriptors[d].append(-numpy.log2(descriptors[d][0] / tf))\n",
        "     \n",
        "    print('\\nSaving descriptor data....')\n",
        "\n",
        "    if asDataFrame: \n",
        "        if mergePOS:\n",
        "                descriptors = pandas.DataFrame.from_dict(descriptors, orient='index', columns=['OlfN', 'TotalN', 'Tokens', 'OAI', 'OSI'])\n",
        "        else:\n",
        "                descriptors = pandas.DataFrame.from_dict(descriptors, orient='index', columns=['OlfN', 'TotalN', 'OAI', 'OSI'])\n",
        "        \n",
        "        descriptors.to_csv(descfile)\n",
        "        \n",
        "    else:\n",
        "        cf = open(descfile, 'w')\n",
        "        json.dump(descriptors, cf)\n",
        "        cf.close()\n",
        "    \n",
        "    print('\\n\\n*****************************************************************')\n",
        "    print('All done!')\n",
        "    print('Total processing time: ' + str(time.time() - totalstarttime) + '\\n\\n')\n",
        "    return(descriptors)    "
      ],
      "execution_count": null,
      "outputs": []
    },
    {
      "cell_type": "code",
      "metadata": {
        "colab": {
          "base_uri": "https://localhost:8080/",
          "height": 34
        },
        "id": "chylAi3Q_m8d",
        "outputId": "c43556aa-a5f2-420f-d491-bdb7b4c99743"
      },
      "source": [
        "OlfWords = ['^feel_.*$', '^feeling_.*$', '^feelings_.*$', '^feels_.*$', '^felt_.*$']\n",
        "POStags = ['COLL']\n",
        "NounTags = ['NN', 'NNS', 'NNP', 'NNPS']\n",
        "AdjTags = ['JJ', 'JJR', 'JJS']\n",
        "VerbTags = ['MD', 'VB', 'VBD', 'VBG', 'VBN', 'VBP', 'VBZ']\n",
        "AdvTags = ['RB', 'RBR', 'RBS']\n",
        "\n",
        "POStags = POStags + NounTags + AdjTags + VerbTags + AdvTags\n",
        "print(POStags)"
      ],
      "execution_count": null,
      "outputs": [
        {
          "output_type": "stream",
          "text": [
            "['COLL', 'NN', 'NNS', 'NNP', 'NNPS', 'JJ', 'JJR', 'JJS', 'MD', 'VB', 'VBD', 'VBG', 'VBN', 'VBP', 'VBZ', 'RB', 'RBR', 'RBS']\n"
          ],
          "name": "stdout"
        }
      ]
    },
    {
      "cell_type": "code",
      "metadata": {
        "id": "-AenueSKAgCJ"
      },
      "source": [
        "corpusdir =  '/content/drive/My Drive/umbc/'\n",
        "contextdir = '/content/drive/My Drive/umbc_context/'"
      ],
      "execution_count": null,
      "outputs": []
    },
    {
      "cell_type": "code",
      "metadata": {
        "colab": {
          "base_uri": "https://localhost:8080/",
          "height": 454
        },
        "id": "cACkFSaqAqo_",
        "outputId": "1e391998-bb11-40aa-e9a7-b159842a69e1"
      },
      "source": [
        "descriptors = calculate_scores(corpusdir, dictionary=dictionary,  \n",
        "                               ctxtdir=contextdir,\n",
        "                               OlfWords=OlfWords, POStags=POStags, ctxtoutdir=contextdir,\n",
        "                               save_contexts=False, verbose=True, asDataFrame=True, mergePOS=True)"
      ],
      "execution_count": null,
      "outputs": [
        {
          "output_type": "stream",
          "text": [
            "\n",
            "********************************************************************************************************\n",
            "Starting to count total descriptor frequencies from the UMBC corpus, this will also take time.\n",
            "\n",
            "\n",
            "Working file: UMBC_lines_1.json (nr 1)....\n",
            "-------------------------------------\n",
            "Searching for descriptors in current file...\n",
            "\n",
            "UMBC_lines_1.json is done! It took 180.40636444091797 seconds to work 348382 items.\n",
            "\n",
            "\n",
            "*************************************************************************\n",
            "Descriptor frequency count is done!\n",
            "It took 180.40722918510437 seconds to work 249 descriptors.\n",
            "\n",
            "Calculating OAI and OSI for each term...\n",
            "\n",
            "Saving descriptor data....\n",
            "\n",
            "\n",
            "*****************************************************************\n",
            "All done!\n",
            "Total processing time: 180.4192225933075\n",
            "\n",
            "\n"
          ],
          "name": "stdout"
        }
      ]
    }
  ]
}